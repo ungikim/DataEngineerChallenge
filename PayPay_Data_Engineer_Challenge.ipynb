{
  "nbformat": 4,
  "nbformat_minor": 0,
  "metadata": {
    "colab": {
      "name": "PayPay Data Engineer Challenge.ipynb",
      "version": "0.3.2",
      "provenance": [],
      "collapsed_sections": [],
      "include_colab_link": true
    },
    "kernelspec": {
      "name": "python3",
      "display_name": "Python 3"
    }
  },
  "cells": [
    {
      "cell_type": "markdown",
      "metadata": {
        "id": "view-in-github",
        "colab_type": "text"
      },
      "source": [
        "<a href=\"https://colab.research.google.com/github/ungikim/DataEngineerChallenge/blob/master/PayPay_Data_Engineer_Challenge.ipynb\" target=\"_parent\"><img src=\"https://colab.research.google.com/assets/colab-badge.svg\" alt=\"Open In Colab\"/></a>"
      ]
    },
    {
      "cell_type": "markdown",
      "metadata": {
        "id": "3OQZfArX0gnj",
        "colab_type": "text"
      },
      "source": [
        "# DataEngineerChallenge\n",
        "\n",
        "This is an interview challenge for PayPay\n",
        "\n",
        "The challenge is to make make analytical observations about the data using the distributed tools below.\n",
        "\n",
        "## Processing & Analytical goals:\n",
        "\n",
        "* Sessionize the web log by IP. Sessionize = aggregrate all page hits by visitor/IP during a session. https://en.wikipedia.org/wiki/Session_(web_analytics)\n",
        "* Determine the average session time\n",
        "* Determine unique URL visits per session. To clarify, count a hit to a unique URL only once per session.\n",
        "* Find the most engaged users, ie the IPs with the longest session times\n",
        "\n",
        "## Hmm\n",
        "\n",
        "### What is the appropriate session time?\n",
        "\n",
        "* Paypay suggest 15 min\n",
        "* Google Analytics use 30 min (default: They can change session length from few seconds to days)\n",
        "* My guess: From the logs, this is the PayTM log. PayTM is an online shopping mall. According Spinutech, the industry standard is 2 - 3 minutes.\n",
        "\n",
        "### How to filter out weird requests?\n",
        "\n",
        "* Attack requests against the server\n",
        "* Data cleansing is important because data can be used for machine learning\n",
        "\n",
        "## Tools Used\n",
        "\n",
        "* Spark\n",
        "* Spark SQL\n",
        "* Pyspark\n",
        "* Jupyter Notebook (on Google Colab)"
      ]
    },
    {
      "cell_type": "markdown",
      "metadata": {
        "id": "LBIyphcD2ufZ",
        "colab_type": "text"
      },
      "source": [
        "# Set up Environment\n",
        "\n",
        "## Download data"
      ]
    },
    {
      "cell_type": "code",
      "metadata": {
        "id": "UMtRuf3Y2U5Q",
        "colab_type": "code",
        "colab": {}
      },
      "source": [
        "!wget -q https://github.com/ungikim/DataEngineerChallenge/raw/master/data/2015_07_22_mktplace_shop_web_log_sample.log.gz"
      ],
      "execution_count": 0,
      "outputs": []
    },
    {
      "cell_type": "markdown",
      "metadata": {
        "id": "McopjbGx1CJu",
        "colab_type": "text"
      },
      "source": [
        "## Installation of Apache Spark on Google Colab"
      ]
    },
    {
      "cell_type": "code",
      "metadata": {
        "id": "nHkajdUQyQyI",
        "colab_type": "code",
        "colab": {}
      },
      "source": [
        "!apt-get install openjdk-8-jdk-headless -qq > /dev/null\n",
        "!wget -q https://www-us.apache.org/dist/spark/spark-2.4.3/spark-2.4.3-bin-hadoop2.7.tgz\n",
        "!tar xf spark-2.4.3-bin-hadoop2.7.tgz\n",
        "!pip install -q findspark"
      ],
      "execution_count": 0,
      "outputs": []
    },
    {
      "cell_type": "markdown",
      "metadata": {
        "id": "NMA4Vdnl8etc",
        "colab_type": "text"
      },
      "source": [
        "## Set up Pyspark"
      ]
    },
    {
      "cell_type": "code",
      "metadata": {
        "id": "pNVq3uF9yVxe",
        "colab_type": "code",
        "colab": {}
      },
      "source": [
        "import os\n",
        "os.environ[\"JAVA_HOME\"] = \"/usr/lib/jvm/java-8-openjdk-amd64\"\n",
        "os.environ[\"SPARK_HOME\"] = \"/content/spark-2.4.3-bin-hadoop2.7\""
      ],
      "execution_count": 0,
      "outputs": []
    },
    {
      "cell_type": "code",
      "metadata": {
        "id": "SI71aW-vyzO1",
        "colab_type": "code",
        "colab": {}
      },
      "source": [
        "import findspark\n",
        "findspark.init()\n",
        "from pyspark.sql import SparkSession\n",
        "spark = SparkSession.builder.master(\"local[*]\").getOrCreate()"
      ],
      "execution_count": 0,
      "outputs": []
    },
    {
      "cell_type": "markdown",
      "metadata": {
        "id": "OgVNbea-1Gm4",
        "colab_type": "text"
      },
      "source": [
        "## Check the Environment"
      ]
    },
    {
      "cell_type": "code",
      "metadata": {
        "id": "R_bnMqAWy05G",
        "colab_type": "code",
        "outputId": "5392be87-0bee-4d47-e30e-d36d178c0650",
        "colab": {
          "base_uri": "https://localhost:8080/",
          "height": 68
        }
      },
      "source": [
        "import sys\n",
        "\n",
        "print(f'Python Version: {sys.version}')\n",
        "print(f'Spark Version: {spark._sc.version}')"
      ],
      "execution_count": 6,
      "outputs": [
        {
          "output_type": "stream",
          "text": [
            "Python Version: 3.6.8 (default, Jan 14 2019, 11:02:34) \n",
            "[GCC 8.0.1 20180414 (experimental) [trunk revision 259383]]\n",
            "Spark Version: 2.4.3\n"
          ],
          "name": "stdout"
        }
      ]
    },
    {
      "cell_type": "markdown",
      "metadata": {
        "id": "4CcLYFLE8pVE",
        "colab_type": "text"
      },
      "source": [
        "# Processing\n",
        "\n",
        "## Load Data\n",
        "\n",
        "[See this](https://docs.aws.amazon.com/elasticloadbalancing/latest/classic/access-log-collection.html#access-log-entry-format)"
      ]
    },
    {
      "cell_type": "code",
      "metadata": {
        "id": "LUjwO9cCzC3C",
        "colab_type": "code",
        "colab": {}
      },
      "source": [
        "from pyspark.sql.types import StructField, StructType, StringType, TimestampType, DoubleType, IntegerType\n",
        "\n",
        "ELB_SCHEMA = StructType(\n",
        "    [\n",
        "        StructField(\"timestamp\", TimestampType(), False),\n",
        "        StructField(\"elb\", StringType(), False),\n",
        "        StructField(\"client\", StringType(), False),\n",
        "        StructField(\"backend\", StringType(), False),\n",
        "        StructField(\"request_processing_time\", DoubleType(), False),\n",
        "        StructField(\"backend_processing_time\", DoubleType(), False),\n",
        "        StructField(\"response_processing_time\", DoubleType(), False),\n",
        "        StructField(\"elb_status_code\", IntegerType(), False),\n",
        "        StructField(\"backend_status_code\", IntegerType(), False),\n",
        "        StructField(\"received_bytes\", IntegerType(), False),\n",
        "        StructField(\"sent_bytes\", IntegerType(), False),\n",
        "        StructField(\"request\", StringType(), False),\n",
        "        StructField(\"user_agent\", StringType(), False),\n",
        "        StructField(\"ssl_cipher\", StringType(), False),\n",
        "        StructField(\"ssl_protocol\", StringType(), False),\n",
        "\n",
        "    ]\n",
        ")\n",
        "\n",
        "df = spark.read.csv(\"file:///content/2015_07_22_mktplace_shop_web_log_sample.log.gz\", schema=ELB_SCHEMA, sep=\" \")"
      ],
      "execution_count": 0,
      "outputs": []
    },
    {
      "cell_type": "markdown",
      "metadata": {
        "id": "IFF49R9P89Ne",
        "colab_type": "text"
      },
      "source": [
        "## Extra Transformation for Analysis\n",
        "\n",
        "* Isolate the columns for convenience\n",
        "* Extra data for User Agent (using [user-agents](https://pypi.org/project/user-agents/))"
      ]
    },
    {
      "cell_type": "code",
      "metadata": {
        "id": "EWK_d_Xo8D7v",
        "colab_type": "code",
        "outputId": "23b4f809-3ba0-4887-a5e7-154f84ac7d69",
        "colab": {
          "base_uri": "https://localhost:8080/",
          "height": 207
        }
      },
      "source": [
        "!pip install user-agents"
      ],
      "execution_count": 8,
      "outputs": [
        {
          "output_type": "stream",
          "text": [
            "Collecting user-agents\n",
            "  Downloading https://files.pythonhosted.org/packages/ef/b4/3ae0f6baeddc7264a3de3ebca9fe381d09ebed4ac14fb8510ac4b3d70197/user-agents-2.0.tar.gz\n",
            "Collecting ua-parser>=0.8.0 (from user-agents)\n",
            "  Downloading https://files.pythonhosted.org/packages/10/24/b13d43fbdc69b324be35058ee67e7c570ca728737bc37eadf92fa4668812/ua_parser-0.8.0-py2.py3-none-any.whl\n",
            "Building wheels for collected packages: user-agents\n",
            "  Building wheel for user-agents (setup.py) ... \u001b[?25l\u001b[?25hdone\n",
            "  Stored in directory: /root/.cache/pip/wheels/48/41/70/1ba4d8c9bbca8a54fac6827bc7c48c93d5b44d94829facecba\n",
            "Successfully built user-agents\n",
            "Installing collected packages: ua-parser, user-agents\n",
            "Successfully installed ua-parser-0.8.0 user-agents-2.0\n"
          ],
          "name": "stdout"
        }
      ]
    },
    {
      "cell_type": "code",
      "metadata": {
        "id": "pX4qqMcg2QZj",
        "colab_type": "code",
        "colab": {}
      },
      "source": [
        "from contextlib import suppress\n",
        "from typing import Optional, Text\n",
        "\n",
        "from pyspark.sql import functions as F\n",
        "from user_agents import parse\n",
        "\n",
        "@F.udf\n",
        "def udf_user_agent_info(user_agent: Text) -> Optional[Text]:\n",
        "    with suppress(Exception):\n",
        "        return str(parse(user_agent))\n",
        "    return None\n"
      ],
      "execution_count": 0,
      "outputs": []
    },
    {
      "cell_type": "code",
      "metadata": {
        "id": "jtEp2WeqntkP",
        "colab_type": "code",
        "outputId": "0e4fc42f-c6b5-487d-cf27-e47a72e54e07",
        "colab": {
          "base_uri": "https://localhost:8080/",
          "height": 54
        }
      },
      "source": [
        "df = df.withColumn(\"client_ip\", F.split(df[\"client\"], \":\")[0]).withColumn(\"client_port\", F.split(df[\"client\"], \":\")[1]).drop(\"client\")\n",
        "df = df.withColumn(\"backend_ip\", F.split(df[\"backend\"], \":\")[0]).withColumn(\"backend_port\", F.split(df[\"backend\"], \":\")[1]).drop(\"backend\")\n",
        "df = df.withColumn(\"request_method\", F.split(df[\"request\"], \" \")[0]).withColumn(\"request_url\", F.split(df[\"request\"], \" \")[1]).withColumn(\"request_protocol\", F.split(df[\"request\"], \" \")[2]).drop(\"request\")\n",
        "df = df.withColumn(\"user_agent_info\", udf_user_agent_info(\"user_agent\"))\n",
        "df.cache() # if you need"
      ],
      "execution_count": 10,
      "outputs": [
        {
          "output_type": "execute_result",
          "data": {
            "text/plain": [
              "DataFrame[timestamp: timestamp, elb: string, request_processing_time: double, backend_processing_time: double, response_processing_time: double, elb_status_code: int, backend_status_code: int, received_bytes: int, sent_bytes: int, user_agent: string, ssl_cipher: string, ssl_protocol: string, client_ip: string, client_port: string, backend_ip: string, backend_port: string, request_method: string, request_url: string, request_protocol: string, user_agent_info: string]"
            ]
          },
          "metadata": {
            "tags": []
          },
          "execution_count": 10
        }
      ]
    },
    {
      "cell_type": "markdown",
      "metadata": {
        "id": "HSlNovA49DBp",
        "colab_type": "text"
      },
      "source": [
        "## Register Table for EDA and Data Summary"
      ]
    },
    {
      "cell_type": "code",
      "metadata": {
        "id": "cvziAqsa23zO",
        "colab_type": "code",
        "colab": {}
      },
      "source": [
        "df.createOrReplaceTempView(\"elb\")"
      ],
      "execution_count": 0,
      "outputs": []
    },
    {
      "cell_type": "code",
      "metadata": {
        "id": "PSc-R3G74EcW",
        "colab_type": "code",
        "outputId": "ffad8397-603c-4422-afc1-0da0b547f016",
        "colab": {
          "base_uri": "https://localhost:8080/",
          "height": 207
        }
      },
      "source": [
        "df.describe().show()"
      ],
      "execution_count": 12,
      "outputs": [
        {
          "output_type": "stream",
          "text": [
            "+-------+----------------+-----------------------+-----------------------+------------------------+------------------+-------------------+------------------+-----------------+--------------------+--------------------+------------+------------+------------------+----------+-------------------+--------------+--------------------+----------------+--------------------+\n",
            "|summary|             elb|request_processing_time|backend_processing_time|response_processing_time|   elb_status_code|backend_status_code|    received_bytes|       sent_bytes|          user_agent|          ssl_cipher|ssl_protocol|   client_ip|       client_port|backend_ip|       backend_port|request_method|         request_url|request_protocol|     user_agent_info|\n",
            "+-------+----------------+-----------------------+-----------------------+------------------------+------------------+-------------------+------------------+-----------------+--------------------+--------------------+------------+------------+------------------+----------+-------------------+--------------+--------------------+----------------+--------------------+\n",
            "|  count|         1158500|                1158500|                1158500|                 1158500|           1158500|            1158500|           1158500|          1158500|             1158495|             1158500|     1158500|     1158500|           1158500|   1158500|            1158338|       1158500|             1158500|         1158478|             1158495|\n",
            "|   mean|            null|   -1.17051348295163...|   0.033057569863616035|    -1.18995419075703...| 216.7690315062581| 216.69855416486837|27.532892533448425| 5488.19137850669|                null|                null|        null|        null|39305.105318083726|      null|  80.00709896420561|          null|                null|            null|                null|\n",
            "| stddev|            null|   0.011824675161465422|    0.36602516685579267|    0.011824654382180055|42.312951921691166|  42.25417090646637| 204.4928732755386|15629.35180609112|                null|                null|        null|        null| 18337.89248796697|      null|0.08395579192584418|          null|                null|            null|                null|\n",
            "|    min|marketpalce-shop|                   -1.0|                   -1.0|                    -1.0|               200|                  0|                 0|                0|\tMozilla/5.0 (Win...|                   -|           -|1.186.101.79|             10000|         -|                 80|          \"GET|http://123.249.24...|        HTTP/1.0|2014818 / Android...|\n",
            "|    max|marketpalce-shop|                1.51E-4|              58.698117|                0.001433|               504|                504|             23403|          1068957|ultrafone 105+(Li...|Mozilla/5.0 (comp...|     TLSv1.2|  99.8.170.3|              9999| 10.0.6.99|                 81|           PUT|https://www.paytm...|        HTTP/1.1|vivo Y28 / Androi...|\n",
            "+-------+----------------+-----------------------+-----------------------+------------------------+------------------+-------------------+------------------+-----------------+--------------------+--------------------+------------+------------+------------------+----------+-------------------+--------------+--------------------+----------------+--------------------+\n",
            "\n"
          ],
          "name": "stdout"
        }
      ]
    },
    {
      "cell_type": "markdown",
      "metadata": {
        "id": "St2cl3_i9Jhu",
        "colab_type": "text"
      },
      "source": [
        "## EDA"
      ]
    },
    {
      "cell_type": "code",
      "metadata": {
        "id": "xizI9uUNBf1p",
        "colab_type": "code",
        "outputId": "d492c3d8-a3b9-42b8-9509-cf25966f0fba",
        "colab": {
          "base_uri": "https://localhost:8080/",
          "height": 34
        }
      },
      "source": [
        "# Check for Duplicates\n",
        "\n",
        "original_cnt = df.count()\n",
        "distinct_cnt = df.select(\"timestamp\", \"elb\", \"client_ip\", \"client_port\", \"backend_ip\", \"backend_port\", \"request_method\", \"request_url\").distinct().count()\n",
        "print(original_cnt, distinct_cnt)"
      ],
      "execution_count": 13,
      "outputs": [
        {
          "output_type": "stream",
          "text": [
            "1158500 1158500\n"
          ],
          "name": "stdout"
        }
      ]
    },
    {
      "cell_type": "code",
      "metadata": {
        "id": "NA4vvOTn4Gll",
        "colab_type": "code",
        "outputId": "a2aab2b4-5850-4ce7-e938-85a9b19552a8",
        "colab": {
          "base_uri": "https://localhost:8080/",
          "height": 289
        }
      },
      "source": [
        "spark.sql(\"\"\"\n",
        "SELECT\n",
        "    client_ip,\n",
        "    COUNT(DISTINCT session_id_30) AS cnt_session_30,\n",
        "    COUNT(DISTINCT session_id_15) AS cnt_session_15,\n",
        "    COUNT(DISTINCT session_id_3) AS cnt_session_3\n",
        "FROM (\n",
        "    SELECT\n",
        "        CONCAT_WS(\n",
        "            '_',\n",
        "            client_ip,\n",
        "            CAST(SUM(CASE\n",
        "                    WHEN COALESCE(UNIX_TIMESTAMP(timestamp) - UNIX_TIMESTAMP(LAG(timestamp, 1) OVER (PARTITION BY client_ip ORDER BY timestamp)), 0) > 30 * 60 THEN 1\n",
        "                    ELSE 0\n",
        "                END) OVER (PARTITION BY client_ip ORDER BY timestamp)\n",
        "            AS STRING)\n",
        "        ) AS session_id_30,\n",
        "        CONCAT_WS(\n",
        "            '_',\n",
        "            client_ip,\n",
        "            CAST(SUM(CASE\n",
        "                    WHEN COALESCE(UNIX_TIMESTAMP(timestamp) - UNIX_TIMESTAMP(LAG(timestamp, 1) OVER (PARTITION BY client_ip ORDER BY timestamp)), 0) > 15 * 60 THEN 1\n",
        "                    ELSE 0\n",
        "                END) OVER (PARTITION BY client_ip ORDER BY timestamp)\n",
        "            AS STRING)\n",
        "        ) AS session_id_15,\n",
        "        CONCAT_WS(\n",
        "            '_',\n",
        "            client_ip,\n",
        "            CAST(SUM(CASE\n",
        "                    WHEN COALESCE(UNIX_TIMESTAMP(timestamp) - UNIX_TIMESTAMP(LAG(timestamp, 1) OVER (PARTITION BY client_ip ORDER BY timestamp)), 0) > 3 * 60 THEN 1\n",
        "                    ELSE 0\n",
        "                END) OVER (PARTITION BY client_ip ORDER BY timestamp)\n",
        "            AS STRING)\n",
        "        ) AS session_id_3,\n",
        "        timestamp,\n",
        "        request_url,\n",
        "        user_agent,\n",
        "        client_ip\n",
        "    FROM\n",
        "        elb\n",
        ")\n",
        "GROUP BY\n",
        "    1\n",
        "HAVING\n",
        "    COUNT(DISTINCT session_id_15) != COUNT(DISTINCT session_id_30)\n",
        "    OR\n",
        "    COUNT(DISTINCT session_id_3) != COUNT(DISTINCT session_id_15)\n",
        "ORDER BY\n",
        "    4 DESC\n",
        "\"\"\").show(10)"
      ],
      "execution_count": 14,
      "outputs": [
        {
          "output_type": "stream",
          "text": [
            "+--------------+--------------+--------------+-------------+\n",
            "|     client_ip|cnt_session_30|cnt_session_15|cnt_session_3|\n",
            "+--------------+--------------+--------------+-------------+\n",
            "|  54.232.40.76|             8|             8|           32|\n",
            "|  207.46.13.22|             8|             8|           30|\n",
            "|54.252.254.204|             8|             8|           30|\n",
            "|176.34.159.236|             8|             8|           29|\n",
            "| 54.241.32.108|             8|             8|           29|\n",
            "| 107.23.255.12|             8|             8|           28|\n",
            "| 54.248.220.44|             8|             8|           28|\n",
            "|54.250.253.236|             8|             8|           28|\n",
            "| 54.252.79.172|             7|             7|           28|\n",
            "|54.183.255.140|             8|             8|           28|\n",
            "+--------------+--------------+--------------+-------------+\n",
            "only showing top 10 rows\n",
            "\n"
          ],
          "name": "stdout"
        }
      ]
    },
    {
      "cell_type": "markdown",
      "metadata": {
        "id": "lUL8IKJO9Ql3",
        "colab_type": "text"
      },
      "source": [
        "## Sessionize the web log by IP\n",
        "\n",
        "Sessionize = aggregrate all page hits by visitor/IP during a fixed time window."
      ]
    },
    {
      "cell_type": "code",
      "metadata": {
        "id": "_Juft0Vp4tRu",
        "colab_type": "code",
        "outputId": "d86dbb07-7dcd-4e7c-8a12-b551ec654993",
        "colab": {
          "base_uri": "https://localhost:8080/",
          "height": 54
        }
      },
      "source": [
        "from pyspark.sql import Window\n",
        "\n",
        "session_criteria = Window.partitionBy(\"client_ip\").orderBy(\"timestamp\")\n",
        "\n",
        "df = df.withColumn(\n",
        "    \"session_id\",\n",
        "    F.concat_ws(\n",
        "        \"_\",\n",
        "        df[\"client_ip\"],\n",
        "        F.sum(\n",
        "            F.when(\n",
        "                F.coalesce(\n",
        "                    F.unix_timestamp(df[\"timestamp\"])\n",
        "                    - F.lag(F.unix_timestamp(df[\"timestamp\"]), 1).over(\n",
        "                        session_criteria\n",
        "                    ),\n",
        "                    F.lit(0),\n",
        "                )\n",
        "                > 3 * 60,\n",
        "                1,\n",
        "            ).otherwise(0)\n",
        "        ).over(session_criteria)\n",
        "    )\n",
        ")\n",
        "df.cache()"
      ],
      "execution_count": 15,
      "outputs": [
        {
          "output_type": "execute_result",
          "data": {
            "text/plain": [
              "DataFrame[timestamp: timestamp, elb: string, request_processing_time: double, backend_processing_time: double, response_processing_time: double, elb_status_code: int, backend_status_code: int, received_bytes: int, sent_bytes: int, user_agent: string, ssl_cipher: string, ssl_protocol: string, client_ip: string, client_port: string, backend_ip: string, backend_port: string, request_method: string, request_url: string, request_protocol: string, user_agent_info: string, session_id: string]"
            ]
          },
          "metadata": {
            "tags": []
          },
          "execution_count": 15
        }
      ]
    },
    {
      "cell_type": "markdown",
      "metadata": {
        "id": "SaCewYb29YHo",
        "colab_type": "text"
      },
      "source": [
        "## Write to parquet"
      ]
    },
    {
      "cell_type": "code",
      "metadata": {
        "id": "-B7c0S2x6DHp",
        "colab_type": "code",
        "colab": {}
      },
      "source": [
        "df.write.parquet(\"file:///content/transformed_elb\", mode=\"overwrite\")"
      ],
      "execution_count": 0,
      "outputs": []
    },
    {
      "cell_type": "markdown",
      "metadata": {
        "id": "jkFDpCz59bo_",
        "colab_type": "text"
      },
      "source": [
        "# Analysis\n",
        "\n",
        "- Determine the average session time\n",
        "- Determine unique URL visits per session. To clarify, count a hit to a unique URL only once per session.\n",
        "- Find the most engaged users, ie the IPs with the longest session times"
      ]
    },
    {
      "cell_type": "markdown",
      "metadata": {
        "id": "sHXe_dmy9hDF",
        "colab_type": "text"
      },
      "source": [
        "## Register table for Analysis"
      ]
    },
    {
      "cell_type": "code",
      "metadata": {
        "id": "REKEmq3m6JAc",
        "colab_type": "code",
        "colab": {}
      },
      "source": [
        "spark.read.parquet(\"file:///content/transformed_elb\").cache().createOrReplaceTempView(\"transformed_elb\")"
      ],
      "execution_count": 0,
      "outputs": []
    },
    {
      "cell_type": "markdown",
      "metadata": {
        "id": "31VCTsOo9i_4",
        "colab_type": "text"
      },
      "source": [
        "## Determine the average session time"
      ]
    },
    {
      "cell_type": "code",
      "metadata": {
        "id": "xnzeP4P-7AIn",
        "colab_type": "code",
        "outputId": "648fb732-994b-4be6-b58b-a14a287f5f8e",
        "colab": {
          "base_uri": "https://localhost:8080/",
          "height": 119
        }
      },
      "source": [
        "spark.sql(\"\"\"\n",
        "SELECT \n",
        "    SUM(total_session_time_per_ip) AS amount_of_time, \n",
        "    SUM(num_of_sessions_per_ip) AS num_of_sessions,\n",
        "    AVG(num_of_sessions_per_ip) AS average_num_of_sessions,\n",
        "    (SUM(total_session_time_per_ip) / SUM(num_of_sessions_per_ip)) / 60 AS average_session_time_in_mins\n",
        "FROM (\n",
        "    SELECT\n",
        "        client_ip,\n",
        "        COUNT(DISTINCT session_id) AS num_of_sessions_per_ip,\n",
        "        SUM(session_time) AS total_session_time_per_ip\n",
        "    FROM (\n",
        "        SELECT\n",
        "            client_ip,\n",
        "            session_id,\n",
        "            MAX(UNIX_TIMESTAMP(timestamp)) - MIN(UNIX_TIMESTAMP(timestamp)) AS session_time\n",
        "        FROM\n",
        "            transformed_elb\n",
        "        WHERE\n",
        "            request_processing_time != -1 OR backend_processing_time != -1 OR request_processing_time != -1\n",
        "        GROUP BY\n",
        "            1, 2\n",
        "    )\n",
        "    GROUP BY\n",
        "        1\n",
        ")\n",
        "\"\"\").show()"
      ],
      "execution_count": 18,
      "outputs": [
        {
          "output_type": "stream",
          "text": [
            "+--------------+---------------+-----------------------+----------------------------+\n",
            "|amount_of_time|num_of_sessions|average_num_of_sessions|average_session_time_in_mins|\n",
            "+--------------+---------------+-----------------------+----------------------------+\n",
            "|      28962478|         204762|     2.2615889285280377|          2.3574099035302774|\n",
            "+--------------+---------------+-----------------------+----------------------------+\n",
            "\n"
          ],
          "name": "stdout"
        }
      ]
    },
    {
      "cell_type": "code",
      "metadata": {
        "id": "h7btybCMTvJM",
        "colab_type": "code",
        "colab": {}
      },
      "source": [
        "pdf = spark.sql(\"\"\"\n",
        "SELECT \n",
        "    *\n",
        "FROM (\n",
        "    SELECT\n",
        "        client_ip,\n",
        "        COUNT(DISTINCT session_id) AS num_of_sessions_per_ip,\n",
        "        SUM(session_time) AS total_session_time_per_ip\n",
        "    FROM (\n",
        "        SELECT\n",
        "            client_ip,\n",
        "            session_id,\n",
        "            MAX(UNIX_TIMESTAMP(timestamp)) - MIN(UNIX_TIMESTAMP(timestamp)) AS session_time\n",
        "        FROM\n",
        "            transformed_elb\n",
        "        WHERE\n",
        "            request_processing_time != -1 OR backend_processing_time != -1 OR request_processing_time != -1\n",
        "        GROUP BY\n",
        "            1, 2\n",
        "    )\n",
        "    GROUP BY\n",
        "        1\n",
        ")\n",
        "\"\"\").toPandas()"
      ],
      "execution_count": 0,
      "outputs": []
    },
    {
      "cell_type": "code",
      "metadata": {
        "id": "qzzJMNsUUN1g",
        "colab_type": "code",
        "outputId": "3d2a84c7-76a4-469b-babd-5e83881258e8",
        "colab": {
          "base_uri": "https://localhost:8080/",
          "height": 284
        }
      },
      "source": [
        "import matplotlib.pyplot as plt\n",
        "%matplotlib inline\n",
        "\n",
        "ax1 = pdf.plot(kind=\"scatter\", x=\"num_of_sessions_per_ip\", y=\"total_session_time_per_ip\")\n",
        "plt.show()"
      ],
      "execution_count": 20,
      "outputs": [
        {
          "output_type": "display_data",
          "data": {
            "image/png": "[encoded data removed]",
            "text/plain": [
              "<Figure size 432x288 with 1 Axes>"
            ]
          },
          "metadata": {
            "tags": []
          }
        }
      ]
    },
    {
      "cell_type": "markdown",
      "metadata": {
        "id": "2mIXffSf9mqj",
        "colab_type": "text"
      },
      "source": [
        "## Determine unique URL visits per session. To clarify, count a hit to a unique URL only once per session.\n",
        "\n",
        "Recods of static file access are not counted as visits."
      ]
    },
    {
      "cell_type": "code",
      "metadata": {
        "id": "iyM-xgfJ7Exf",
        "colab_type": "code",
        "outputId": "d668b714-cb38-4546-8516-5a2e9a1cca3e",
        "colab": {
          "base_uri": "https://localhost:8080/",
          "height": 119
        }
      },
      "source": [
        "spark.sql(\"\"\"\n",
        "SELECT\n",
        "    SUM(total_unique_visits) / SUM(total_sessions_per_ip) AS average_unique_visits_per_session\n",
        "FROM (\n",
        "    SELECT\n",
        "        client_ip,\n",
        "        COUNT(DISTINCT session_id) AS total_sessions_per_ip,\n",
        "        COUNT(request_url) AS total_unique_visits,\n",
        "        COUNT(request_url) / COUNT(DISTINCT session_id)  AS unique_visits_per_session\n",
        "    FROM (\n",
        "        SELECT\n",
        "            client_ip,\n",
        "            session_id,\n",
        "            request_url\n",
        "        FROM\n",
        "            transformed_elb\n",
        "        WHERE\n",
        "                PARSE_URL(request_url, 'PATH') NOT RLIKE '^([\\\\S]+(\\\\.(?i)(jpg|png|gif|css|js|xml|webp|ico|eot|woff|php|txt|svg))$)'\n",
        "            AND (request_processing_time != -1 OR backend_processing_time != -1 OR request_processing_time != -1)\n",
        "        GROUP BY\n",
        "            1, 2, 3\n",
        "    )\n",
        "    GROUP BY\n",
        "        1\n",
        ")\n",
        "\"\"\").show()"
      ],
      "execution_count": 21,
      "outputs": [
        {
          "output_type": "stream",
          "text": [
            "+---------------------------------+\n",
            "|average_unique_visits_per_session|\n",
            "+---------------------------------+\n",
            "|                4.665264957264958|\n",
            "+---------------------------------+\n",
            "\n"
          ],
          "name": "stdout"
        }
      ]
    },
    {
      "cell_type": "markdown",
      "metadata": {
        "id": "8Fp0vHTJ8Tc7",
        "colab_type": "text"
      },
      "source": [
        "## Find the most engaged users, ie the IPs with the longest session times"
      ]
    },
    {
      "cell_type": "code",
      "metadata": {
        "id": "iiIae0yn71zV",
        "colab_type": "code",
        "outputId": "b84209e5-10e5-4194-8385-db520c0c1404",
        "colab": {
          "base_uri": "https://localhost:8080/",
          "height": 969
        }
      },
      "source": [
        "spark.sql(\"\"\"\n",
        "SELECT\n",
        "    client_ip,\n",
        "    session_id,\n",
        "    (MAX(unix_timestamp(timestamp)) - MIN(unix_timestamp(timestamp))) / 60 AS session_time_in_mins\n",
        "FROM\n",
        "    transformed_elb\n",
        "WHERE\n",
        "    request_processing_time != -1 OR backend_processing_time != -1 OR request_processing_time != -1\n",
        "GROUP BY\n",
        "    1, 2\n",
        "ORDER BY\n",
        "    3 DESC\n",
        "\"\"\").show(50)"
      ],
      "execution_count": 22,
      "outputs": [
        {
          "output_type": "stream",
          "text": [
            "+---------------+-----------------+--------------------+\n",
            "|      client_ip|       session_id|session_time_in_mins|\n",
            "+---------------+-----------------+--------------------+\n",
            "|   52.74.219.71|   52.74.219.71_5|                50.7|\n",
            "|  119.81.61.166|  119.81.61.166_5|               50.65|\n",
            "|   52.74.219.71|   52.74.219.71_4|                50.5|\n",
            "|  54.251.151.39|  54.251.151.39_4|  50.483333333333334|\n",
            "| 103.29.159.186| 103.29.159.186_1|                50.4|\n",
            "|  119.81.61.166|  119.81.61.166_4|   50.36666666666667|\n",
            "| 103.29.159.138| 103.29.159.138_0|   50.11666666666667|\n",
            "|  122.169.141.4|  122.169.141.4_0|   50.03333333333333|\n",
            "|  106.186.23.95|  106.186.23.95_5|  49.983333333333334|\n",
            "| 122.248.183.22| 122.248.183.22_5|   49.96666666666667|\n",
            "|  106.186.23.95|  106.186.23.95_4|               49.95|\n",
            "| 103.29.159.213| 103.29.159.213_1|   49.81666666666667|\n",
            "|  199.43.186.25|  199.43.186.25_7|  49.733333333333334|\n",
            "| 121.58.175.128| 121.58.175.128_6|  49.733333333333334|\n",
            "|  103.29.159.62|  103.29.159.62_0|                49.7|\n",
            "|  115.113.250.2|  115.113.250.2_1|               49.65|\n",
            "|   103.4.125.25|   103.4.125.25_2|               49.65|\n",
            "|  54.251.151.39|  54.251.151.39_5|   49.63333333333333|\n",
            "|   52.74.59.227|   52.74.59.227_2|               49.55|\n",
            "|   14.99.226.79|   14.99.226.79_0|   49.46666666666667|\n",
            "| 115.111.223.43| 115.111.223.43_3|   49.43333333333333|\n",
            "|    78.46.60.71|    78.46.60.71_0|               49.35|\n",
            "| 121.58.175.128| 121.58.175.128_5|  49.266666666666666|\n",
            "| 54.169.164.205| 54.169.164.205_2|               49.25|\n",
            "|   66.102.6.254|   66.102.6.254_0|                49.1|\n",
            "| 115.248.70.101| 115.248.70.101_5|                49.1|\n",
            "|    202.3.66.50|    202.3.66.50_4|                49.1|\n",
            "|   59.144.58.37|   59.144.58.37_6|   49.06666666666667|\n",
            "|  59.160.73.118|  59.160.73.118_4|   49.06666666666667|\n",
            "| 203.191.34.178| 203.191.34.178_2|               49.05|\n",
            "|   192.8.190.10|   192.8.190.10_2|               49.05|\n",
            "|   54.169.64.74|   54.169.64.74_0|  49.016666666666666|\n",
            "|213.239.204.204|213.239.204.204_1|  49.016666666666666|\n",
            "|  176.9.154.132|  176.9.154.132_0|  48.916666666666664|\n",
            "|   59.144.58.37|   59.144.58.37_5|                48.9|\n",
            "|  115.248.37.69|  115.248.37.69_2|   48.88333333333333|\n",
            "|  54.169.191.85|  54.169.191.85_3|   48.81666666666667|\n",
            "|   54.169.0.163|   54.169.0.163_3|                48.8|\n",
            "|   125.20.39.66|   125.20.39.66_4|   48.78333333333333|\n",
            "|  122.248.163.3|  122.248.163.3_3|               48.75|\n",
            "|  54.169.20.106|  54.169.20.106_2|   48.71666666666667|\n",
            "|  121.242.29.88|  121.242.29.88_5|   48.63333333333333|\n",
            "|  116.50.59.180|  116.50.59.180_6|   48.56666666666667|\n",
            "|   103.12.119.2|   103.12.119.2_8|                48.5|\n",
            "|   54.169.1.152|   54.169.1.152_2|  48.483333333333334|\n",
            "| 180.179.213.70| 180.179.213.70_8|   48.21666666666667|\n",
            "| 180.151.80.140| 180.151.80.140_5|                48.2|\n",
            "|    61.246.57.5|    61.246.57.5_2|  48.166666666666664|\n",
            "|   125.19.44.66|   125.19.44.66_4|  48.083333333333336|\n",
            "|  203.91.215.55|  203.91.215.55_2|  47.983333333333334|\n",
            "+---------------+-----------------+--------------------+\n",
            "only showing top 50 rows\n",
            "\n"
          ],
          "name": "stdout"
        }
      ]
    },
    {
      "cell_type": "markdown",
      "metadata": {
        "id": "6tJd9mB7QDgE",
        "colab_type": "text"
      },
      "source": [
        "## Session length outlier detection"
      ]
    },
    {
      "cell_type": "code",
      "metadata": {
        "id": "a67BxBx8J0ra",
        "colab_type": "code",
        "colab": {
          "base_uri": "https://localhost:8080/",
          "height": 51
        },
        "outputId": "92d24f7b-5526-4d6c-c591-e9b6b166d5aa"
      },
      "source": [
        "sdf = spark.sql(\"\"\"\n",
        "SELECT\n",
        "    client_ip,\n",
        "    session_id,\n",
        "    (MAX(unix_timestamp(timestamp)) - MIN(unix_timestamp(timestamp))) / 60 AS session_time_in_mins\n",
        "FROM\n",
        "    transformed_elb\n",
        "WHERE\n",
        "    request_processing_time != -1 OR backend_processing_time != -1 OR request_processing_time != -1\n",
        "GROUP BY\n",
        "    1, 2\n",
        "\"\"\")\n",
        "q1, q3 = sdf.approxQuantile('session_time_in_mins', [0.25, 0.75], 0)\n",
        "print(f\"Q1: {q1}\\nQ3: {q3}\")"
      ],
      "execution_count": 37,
      "outputs": [
        {
          "output_type": "stream",
          "text": [
            "Q1: 0.0\n",
            "Q3: 2.683333333333333\n"
          ],
          "name": "stdout"
        }
      ]
    },
    {
      "cell_type": "code",
      "metadata": {
        "id": "RA5o-HnlPcs7",
        "colab_type": "code",
        "colab": {
          "base_uri": "https://localhost:8080/",
          "height": 459
        },
        "outputId": "4e488a45-ac6f-44a4-c9d4-9a2e270f2990"
      },
      "source": [
        "spark.sql(f\"\"\"\n",
        "SELECT\n",
        "    *\n",
        "FROM (\n",
        "    SELECT\n",
        "        client_ip,\n",
        "        session_id,\n",
        "        (MAX(unix_timestamp(timestamp)) - MIN(unix_timestamp(timestamp))) / 60 AS session_time_in_mins\n",
        "    FROM\n",
        "        transformed_elb\n",
        "    WHERE\n",
        "        request_processing_time != -1 OR backend_processing_time != -1 OR request_processing_time != -1\n",
        "    GROUP BY\n",
        "        1, 2\n",
        ")\n",
        "WHERE\n",
        "    session_time_in_mins > {q3}\n",
        "ORDER BY\n",
        "    3 DESC\n",
        "\"\"\").show()"
      ],
      "execution_count": 36,
      "outputs": [
        {
          "output_type": "stream",
          "text": [
            "+--------------+----------------+--------------------+\n",
            "|     client_ip|      session_id|session_time_in_mins|\n",
            "+--------------+----------------+--------------------+\n",
            "|  52.74.219.71|  52.74.219.71_5|                50.7|\n",
            "| 119.81.61.166| 119.81.61.166_5|               50.65|\n",
            "|  52.74.219.71|  52.74.219.71_4|                50.5|\n",
            "| 54.251.151.39| 54.251.151.39_4|  50.483333333333334|\n",
            "|103.29.159.186|103.29.159.186_1|                50.4|\n",
            "| 119.81.61.166| 119.81.61.166_4|   50.36666666666667|\n",
            "|103.29.159.138|103.29.159.138_0|   50.11666666666667|\n",
            "| 122.169.141.4| 122.169.141.4_0|   50.03333333333333|\n",
            "| 106.186.23.95| 106.186.23.95_5|  49.983333333333334|\n",
            "|122.248.183.22|122.248.183.22_5|   49.96666666666667|\n",
            "| 106.186.23.95| 106.186.23.95_4|               49.95|\n",
            "|103.29.159.213|103.29.159.213_1|   49.81666666666667|\n",
            "|121.58.175.128|121.58.175.128_6|  49.733333333333334|\n",
            "| 199.43.186.25| 199.43.186.25_7|  49.733333333333334|\n",
            "| 103.29.159.62| 103.29.159.62_0|                49.7|\n",
            "|  103.4.125.25|  103.4.125.25_2|               49.65|\n",
            "| 115.113.250.2| 115.113.250.2_1|               49.65|\n",
            "| 54.251.151.39| 54.251.151.39_5|   49.63333333333333|\n",
            "|  52.74.59.227|  52.74.59.227_2|               49.55|\n",
            "|  14.99.226.79|  14.99.226.79_0|   49.46666666666667|\n",
            "+--------------+----------------+--------------------+\n",
            "only showing top 20 rows\n",
            "\n"
          ],
          "name": "stdout"
        }
      ]
    },
    {
      "cell_type": "markdown",
      "metadata": {
        "id": "2YOAu_nawUiL",
        "colab_type": "text"
      },
      "source": [
        "## Browser and OS Report\n"
      ]
    },
    {
      "cell_type": "code",
      "metadata": {
        "id": "eOet1jUVwVFK",
        "colab_type": "code",
        "outputId": "360c4db5-863d-4bdd-addb-0879480fa7b3",
        "colab": {
          "base_uri": "https://localhost:8080/",
          "height": 459
        }
      },
      "source": [
        "spark.sql(\"\"\"\n",
        "SELECT\n",
        "    SPLIT(SPLIT(user_agent_info, ' / ')[1], ' ')[0] AS os,\n",
        "    SPLIT(SPLIT(user_agent_info, ' / ')[2], ' ')[0] AS browser,\n",
        "    COUNT(*) AS request_cnt,\n",
        "    COUNT(DISTINCT client_ip) AS distinct_user_cnt_not_guarantee\n",
        "FROM\n",
        "    transformed_elb\n",
        "GROUP BY\n",
        "    1, 2\n",
        "ORDER BY\n",
        "    4 DESC\n",
        "\"\"\").show()"
      ],
      "execution_count": 24,
      "outputs": [
        {
          "output_type": "stream",
          "text": [
            "+----------+----------+-----------+-------------------------------+\n",
            "|        os|   browser|request_cnt|distinct_user_cnt_not_guarantee|\n",
            "+----------+----------+-----------+-------------------------------+\n",
            "|   Windows|    Chrome|     576203|                          45729|\n",
            "|   Windows|   Firefox|     150417|                          15551|\n",
            "|   Android|    Chrome|      64343|                           9676|\n",
            "|   Windows|        IE|      78355|                           7181|\n",
            "|   Android|        UC|      39262|                           5378|\n",
            "|   Android|   Android|      18773|                           2904|\n",
            "|   Windows|     Opera|      14011|                           2086|\n",
            "|       iOS|    Mobile|       8373|                           1607|\n",
            "|   Android|     Opera|      18577|                           1239|\n",
            "|       Mac|    Chrome|       8847|                            941|\n",
            "|     Other|     Opera|      12602|                            904|\n",
            "|     Other|        UC|      11204|                            676|\n",
            "|    Ubuntu|   Firefox|       5465|                            635|\n",
            "|     Linux|    Chrome|       5658|                            626|\n",
            "|       Mac|    Safari|      36337|                            603|\n",
            "|     Linux|   Firefox|       3610|                            446|\n",
            "|   Windows|        UC|       2940|                            418|\n",
            "|     Other|     Other|      41774|                            372|\n",
            "|BlackBerry|BlackBerry|       1654|                            274|\n",
            "|       Mac|   Firefox|       2083|                            261|\n",
            "+----------+----------+-----------+-------------------------------+\n",
            "only showing top 20 rows\n",
            "\n"
          ],
          "name": "stdout"
        }
      ]
    },
    {
      "cell_type": "markdown",
      "metadata": {
        "id": "ae6G9j3nQua_",
        "colab_type": "text"
      },
      "source": [
        "# Download transformed data"
      ]
    },
    {
      "cell_type": "code",
      "metadata": {
        "id": "FDjnspYAQjIa",
        "colab_type": "code",
        "colab": {
          "base_uri": "https://localhost:8080/",
          "height": 1000
        },
        "outputId": "3aad7f1d-85d1-4470-a577-690ee70d0e26"
      },
      "source": [
        "!tar -zcvf transformed_elb.tar.gz transformed_elb"
      ],
      "execution_count": 42,
      "outputs": [
        {
          "output_type": "stream",
          "text": [
            "transformed_elb/\n",
            "transformed_elb/part-00095-0ceffb42-61ad-4d56-a5f4-9ee6780cb1d1-c000.snappy.parquet\n",
            "transformed_elb/part-00077-0ceffb42-61ad-4d56-a5f4-9ee6780cb1d1-c000.snappy.parquet\n",
            "transformed_elb/part-00035-0ceffb42-61ad-4d56-a5f4-9ee6780cb1d1-c000.snappy.parquet\n",
            "transformed_elb/.part-00169-0ceffb42-61ad-4d56-a5f4-9ee6780cb1d1-c000.snappy.parquet.crc\n",
            "transformed_elb/part-00138-0ceffb42-61ad-4d56-a5f4-9ee6780cb1d1-c000.snappy.parquet\n",
            "transformed_elb/.part-00105-0ceffb42-61ad-4d56-a5f4-9ee6780cb1d1-c000.snappy.parquet.crc\n",
            "transformed_elb/part-00190-0ceffb42-61ad-4d56-a5f4-9ee6780cb1d1-c000.snappy.parquet\n",
            "transformed_elb/.part-00189-0ceffb42-61ad-4d56-a5f4-9ee6780cb1d1-c000.snappy.parquet.crc\n",
            "transformed_elb/part-00032-0ceffb42-61ad-4d56-a5f4-9ee6780cb1d1-c000.snappy.parquet\n",
            "transformed_elb/.part-00040-0ceffb42-61ad-4d56-a5f4-9ee6780cb1d1-c000.snappy.parquet.crc\n",
            "transformed_elb/part-00087-0ceffb42-61ad-4d56-a5f4-9ee6780cb1d1-c000.snappy.parquet\n",
            "transformed_elb/part-00176-0ceffb42-61ad-4d56-a5f4-9ee6780cb1d1-c000.snappy.parquet\n",
            "transformed_elb/part-00086-0ceffb42-61ad-4d56-a5f4-9ee6780cb1d1-c000.snappy.parquet\n",
            "transformed_elb/part-00120-0ceffb42-61ad-4d56-a5f4-9ee6780cb1d1-c000.snappy.parquet\n",
            "transformed_elb/part-00006-0ceffb42-61ad-4d56-a5f4-9ee6780cb1d1-c000.snappy.parquet\n",
            "transformed_elb/.part-00063-0ceffb42-61ad-4d56-a5f4-9ee6780cb1d1-c000.snappy.parquet.crc\n",
            "transformed_elb/part-00183-0ceffb42-61ad-4d56-a5f4-9ee6780cb1d1-c000.snappy.parquet\n",
            "transformed_elb/.part-00088-0ceffb42-61ad-4d56-a5f4-9ee6780cb1d1-c000.snappy.parquet.crc\n",
            "transformed_elb/.part-00135-0ceffb42-61ad-4d56-a5f4-9ee6780cb1d1-c000.snappy.parquet.crc\n",
            "transformed_elb/.part-00150-0ceffb42-61ad-4d56-a5f4-9ee6780cb1d1-c000.snappy.parquet.crc\n",
            "transformed_elb/part-00157-0ceffb42-61ad-4d56-a5f4-9ee6780cb1d1-c000.snappy.parquet\n",
            "transformed_elb/.part-00196-0ceffb42-61ad-4d56-a5f4-9ee6780cb1d1-c000.snappy.parquet.crc\n",
            "transformed_elb/part-00079-0ceffb42-61ad-4d56-a5f4-9ee6780cb1d1-c000.snappy.parquet\n",
            "transformed_elb/part-00163-0ceffb42-61ad-4d56-a5f4-9ee6780cb1d1-c000.snappy.parquet\n",
            "transformed_elb/part-00061-0ceffb42-61ad-4d56-a5f4-9ee6780cb1d1-c000.snappy.parquet\n",
            "transformed_elb/part-00060-0ceffb42-61ad-4d56-a5f4-9ee6780cb1d1-c000.snappy.parquet\n",
            "transformed_elb/part-00005-0ceffb42-61ad-4d56-a5f4-9ee6780cb1d1-c000.snappy.parquet\n",
            "transformed_elb/.part-00187-0ceffb42-61ad-4d56-a5f4-9ee6780cb1d1-c000.snappy.parquet.crc\n",
            "transformed_elb/.part-00116-0ceffb42-61ad-4d56-a5f4-9ee6780cb1d1-c000.snappy.parquet.crc\n",
            "transformed_elb/.part-00057-0ceffb42-61ad-4d56-a5f4-9ee6780cb1d1-c000.snappy.parquet.crc\n",
            "transformed_elb/part-00067-0ceffb42-61ad-4d56-a5f4-9ee6780cb1d1-c000.snappy.parquet\n",
            "transformed_elb/part-00133-0ceffb42-61ad-4d56-a5f4-9ee6780cb1d1-c000.snappy.parquet\n",
            "transformed_elb/.part-00197-0ceffb42-61ad-4d56-a5f4-9ee6780cb1d1-c000.snappy.parquet.crc\n",
            "transformed_elb/part-00164-0ceffb42-61ad-4d56-a5f4-9ee6780cb1d1-c000.snappy.parquet\n",
            "transformed_elb/.part-00112-0ceffb42-61ad-4d56-a5f4-9ee6780cb1d1-c000.snappy.parquet.crc\n",
            "transformed_elb/part-00151-0ceffb42-61ad-4d56-a5f4-9ee6780cb1d1-c000.snappy.parquet\n",
            "transformed_elb/.part-00114-0ceffb42-61ad-4d56-a5f4-9ee6780cb1d1-c000.snappy.parquet.crc\n",
            "transformed_elb/part-00008-0ceffb42-61ad-4d56-a5f4-9ee6780cb1d1-c000.snappy.parquet\n",
            "transformed_elb/._SUCCESS.crc\n",
            "transformed_elb/.part-00074-0ceffb42-61ad-4d56-a5f4-9ee6780cb1d1-c000.snappy.parquet.crc\n",
            "transformed_elb/part-00148-0ceffb42-61ad-4d56-a5f4-9ee6780cb1d1-c000.snappy.parquet\n",
            "transformed_elb/.part-00188-0ceffb42-61ad-4d56-a5f4-9ee6780cb1d1-c000.snappy.parquet.crc\n",
            "transformed_elb/.part-00155-0ceffb42-61ad-4d56-a5f4-9ee6780cb1d1-c000.snappy.parquet.crc\n",
            "transformed_elb/part-00020-0ceffb42-61ad-4d56-a5f4-9ee6780cb1d1-c000.snappy.parquet\n",
            "transformed_elb/.part-00098-0ceffb42-61ad-4d56-a5f4-9ee6780cb1d1-c000.snappy.parquet.crc\n",
            "transformed_elb/.part-00019-0ceffb42-61ad-4d56-a5f4-9ee6780cb1d1-c000.snappy.parquet.crc\n",
            "transformed_elb/.part-00151-0ceffb42-61ad-4d56-a5f4-9ee6780cb1d1-c000.snappy.parquet.crc\n",
            "transformed_elb/.part-00104-0ceffb42-61ad-4d56-a5f4-9ee6780cb1d1-c000.snappy.parquet.crc\n",
            "transformed_elb/.part-00012-0ceffb42-61ad-4d56-a5f4-9ee6780cb1d1-c000.snappy.parquet.crc\n",
            "transformed_elb/.part-00086-0ceffb42-61ad-4d56-a5f4-9ee6780cb1d1-c000.snappy.parquet.crc\n",
            "transformed_elb/.part-00171-0ceffb42-61ad-4d56-a5f4-9ee6780cb1d1-c000.snappy.parquet.crc\n",
            "transformed_elb/.part-00049-0ceffb42-61ad-4d56-a5f4-9ee6780cb1d1-c000.snappy.parquet.crc\n",
            "transformed_elb/part-00195-0ceffb42-61ad-4d56-a5f4-9ee6780cb1d1-c000.snappy.parquet\n",
            "transformed_elb/.part-00022-0ceffb42-61ad-4d56-a5f4-9ee6780cb1d1-c000.snappy.parquet.crc\n",
            "transformed_elb/.part-00127-0ceffb42-61ad-4d56-a5f4-9ee6780cb1d1-c000.snappy.parquet.crc\n",
            "transformed_elb/.part-00038-0ceffb42-61ad-4d56-a5f4-9ee6780cb1d1-c000.snappy.parquet.crc\n",
            "transformed_elb/part-00076-0ceffb42-61ad-4d56-a5f4-9ee6780cb1d1-c000.snappy.parquet\n",
            "transformed_elb/part-00010-0ceffb42-61ad-4d56-a5f4-9ee6780cb1d1-c000.snappy.parquet\n",
            "transformed_elb/part-00062-0ceffb42-61ad-4d56-a5f4-9ee6780cb1d1-c000.snappy.parquet\n",
            "transformed_elb/.part-00079-0ceffb42-61ad-4d56-a5f4-9ee6780cb1d1-c000.snappy.parquet.crc\n",
            "transformed_elb/.part-00071-0ceffb42-61ad-4d56-a5f4-9ee6780cb1d1-c000.snappy.parquet.crc\n",
            "transformed_elb/.part-00154-0ceffb42-61ad-4d56-a5f4-9ee6780cb1d1-c000.snappy.parquet.crc\n",
            "transformed_elb/.part-00138-0ceffb42-61ad-4d56-a5f4-9ee6780cb1d1-c000.snappy.parquet.crc\n",
            "transformed_elb/.part-00185-0ceffb42-61ad-4d56-a5f4-9ee6780cb1d1-c000.snappy.parquet.crc\n",
            "transformed_elb/part-00119-0ceffb42-61ad-4d56-a5f4-9ee6780cb1d1-c000.snappy.parquet\n",
            "transformed_elb/.part-00178-0ceffb42-61ad-4d56-a5f4-9ee6780cb1d1-c000.snappy.parquet.crc\n",
            "transformed_elb/.part-00132-0ceffb42-61ad-4d56-a5f4-9ee6780cb1d1-c000.snappy.parquet.crc\n",
            "transformed_elb/.part-00100-0ceffb42-61ad-4d56-a5f4-9ee6780cb1d1-c000.snappy.parquet.crc\n",
            "transformed_elb/.part-00183-0ceffb42-61ad-4d56-a5f4-9ee6780cb1d1-c000.snappy.parquet.crc\n",
            "transformed_elb/part-00179-0ceffb42-61ad-4d56-a5f4-9ee6780cb1d1-c000.snappy.parquet\n",
            "transformed_elb/part-00194-0ceffb42-61ad-4d56-a5f4-9ee6780cb1d1-c000.snappy.parquet\n",
            "transformed_elb/part-00110-0ceffb42-61ad-4d56-a5f4-9ee6780cb1d1-c000.snappy.parquet\n",
            "transformed_elb/part-00193-0ceffb42-61ad-4d56-a5f4-9ee6780cb1d1-c000.snappy.parquet\n",
            "transformed_elb/.part-00159-0ceffb42-61ad-4d56-a5f4-9ee6780cb1d1-c000.snappy.parquet.crc\n",
            "transformed_elb/part-00028-0ceffb42-61ad-4d56-a5f4-9ee6780cb1d1-c000.snappy.parquet\n",
            "transformed_elb/.part-00006-0ceffb42-61ad-4d56-a5f4-9ee6780cb1d1-c000.snappy.parquet.crc\n",
            "transformed_elb/.part-00186-0ceffb42-61ad-4d56-a5f4-9ee6780cb1d1-c000.snappy.parquet.crc\n",
            "transformed_elb/part-00041-0ceffb42-61ad-4d56-a5f4-9ee6780cb1d1-c000.snappy.parquet\n",
            "transformed_elb/part-00019-0ceffb42-61ad-4d56-a5f4-9ee6780cb1d1-c000.snappy.parquet\n",
            "transformed_elb/.part-00131-0ceffb42-61ad-4d56-a5f4-9ee6780cb1d1-c000.snappy.parquet.crc\n",
            "transformed_elb/.part-00089-0ceffb42-61ad-4d56-a5f4-9ee6780cb1d1-c000.snappy.parquet.crc\n",
            "transformed_elb/part-00191-0ceffb42-61ad-4d56-a5f4-9ee6780cb1d1-c000.snappy.parquet\n",
            "transformed_elb/.part-00068-0ceffb42-61ad-4d56-a5f4-9ee6780cb1d1-c000.snappy.parquet.crc\n",
            "transformed_elb/part-00073-0ceffb42-61ad-4d56-a5f4-9ee6780cb1d1-c000.snappy.parquet\n",
            "transformed_elb/part-00009-0ceffb42-61ad-4d56-a5f4-9ee6780cb1d1-c000.snappy.parquet\n",
            "transformed_elb/part-00017-0ceffb42-61ad-4d56-a5f4-9ee6780cb1d1-c000.snappy.parquet\n",
            "transformed_elb/.part-00037-0ceffb42-61ad-4d56-a5f4-9ee6780cb1d1-c000.snappy.parquet.crc\n",
            "transformed_elb/part-00175-0ceffb42-61ad-4d56-a5f4-9ee6780cb1d1-c000.snappy.parquet\n",
            "transformed_elb/part-00080-0ceffb42-61ad-4d56-a5f4-9ee6780cb1d1-c000.snappy.parquet\n",
            "transformed_elb/part-00022-0ceffb42-61ad-4d56-a5f4-9ee6780cb1d1-c000.snappy.parquet\n",
            "transformed_elb/.part-00075-0ceffb42-61ad-4d56-a5f4-9ee6780cb1d1-c000.snappy.parquet.crc\n",
            "transformed_elb/part-00161-0ceffb42-61ad-4d56-a5f4-9ee6780cb1d1-c000.snappy.parquet\n",
            "transformed_elb/part-00081-0ceffb42-61ad-4d56-a5f4-9ee6780cb1d1-c000.snappy.parquet\n",
            "transformed_elb/.part-00142-0ceffb42-61ad-4d56-a5f4-9ee6780cb1d1-c000.snappy.parquet.crc\n",
            "transformed_elb/part-00036-0ceffb42-61ad-4d56-a5f4-9ee6780cb1d1-c000.snappy.parquet\n",
            "transformed_elb/.part-00073-0ceffb42-61ad-4d56-a5f4-9ee6780cb1d1-c000.snappy.parquet.crc\n",
            "transformed_elb/.part-00010-0ceffb42-61ad-4d56-a5f4-9ee6780cb1d1-c000.snappy.parquet.crc\n",
            "transformed_elb/.part-00144-0ceffb42-61ad-4d56-a5f4-9ee6780cb1d1-c000.snappy.parquet.crc\n",
            "transformed_elb/part-00039-0ceffb42-61ad-4d56-a5f4-9ee6780cb1d1-c000.snappy.parquet\n",
            "transformed_elb/.part-00129-0ceffb42-61ad-4d56-a5f4-9ee6780cb1d1-c000.snappy.parquet.crc\n",
            "transformed_elb/part-00091-0ceffb42-61ad-4d56-a5f4-9ee6780cb1d1-c000.snappy.parquet\n",
            "transformed_elb/.part-00128-0ceffb42-61ad-4d56-a5f4-9ee6780cb1d1-c000.snappy.parquet.crc\n",
            "transformed_elb/.part-00072-0ceffb42-61ad-4d56-a5f4-9ee6780cb1d1-c000.snappy.parquet.crc\n",
            "transformed_elb/part-00129-0ceffb42-61ad-4d56-a5f4-9ee6780cb1d1-c000.snappy.parquet\n",
            "transformed_elb/part-00068-0ceffb42-61ad-4d56-a5f4-9ee6780cb1d1-c000.snappy.parquet\n",
            "transformed_elb/.part-00066-0ceffb42-61ad-4d56-a5f4-9ee6780cb1d1-c000.snappy.parquet.crc\n",
            "transformed_elb/part-00002-0ceffb42-61ad-4d56-a5f4-9ee6780cb1d1-c000.snappy.parquet\n",
            "transformed_elb/part-00047-0ceffb42-61ad-4d56-a5f4-9ee6780cb1d1-c000.snappy.parquet\n",
            "transformed_elb/.part-00054-0ceffb42-61ad-4d56-a5f4-9ee6780cb1d1-c000.snappy.parquet.crc\n",
            "transformed_elb/.part-00137-0ceffb42-61ad-4d56-a5f4-9ee6780cb1d1-c000.snappy.parquet.crc\n",
            "transformed_elb/.part-00001-0ceffb42-61ad-4d56-a5f4-9ee6780cb1d1-c000.snappy.parquet.crc\n",
            "transformed_elb/part-00158-0ceffb42-61ad-4d56-a5f4-9ee6780cb1d1-c000.snappy.parquet\n",
            "transformed_elb/part-00042-0ceffb42-61ad-4d56-a5f4-9ee6780cb1d1-c000.snappy.parquet\n",
            "transformed_elb/.part-00179-0ceffb42-61ad-4d56-a5f4-9ee6780cb1d1-c000.snappy.parquet.crc\n",
            "transformed_elb/.part-00045-0ceffb42-61ad-4d56-a5f4-9ee6780cb1d1-c000.snappy.parquet.crc\n",
            "transformed_elb/.part-00091-0ceffb42-61ad-4d56-a5f4-9ee6780cb1d1-c000.snappy.parquet.crc\n",
            "transformed_elb/.part-00162-0ceffb42-61ad-4d56-a5f4-9ee6780cb1d1-c000.snappy.parquet.crc\n",
            "transformed_elb/part-00127-0ceffb42-61ad-4d56-a5f4-9ee6780cb1d1-c000.snappy.parquet\n",
            "transformed_elb/part-00097-0ceffb42-61ad-4d56-a5f4-9ee6780cb1d1-c000.snappy.parquet\n",
            "transformed_elb/.part-00059-0ceffb42-61ad-4d56-a5f4-9ee6780cb1d1-c000.snappy.parquet.crc\n",
            "transformed_elb/.part-00141-0ceffb42-61ad-4d56-a5f4-9ee6780cb1d1-c000.snappy.parquet.crc\n",
            "transformed_elb/.part-00017-0ceffb42-61ad-4d56-a5f4-9ee6780cb1d1-c000.snappy.parquet.crc\n",
            "transformed_elb/.part-00007-0ceffb42-61ad-4d56-a5f4-9ee6780cb1d1-c000.snappy.parquet.crc\n",
            "transformed_elb/part-00187-0ceffb42-61ad-4d56-a5f4-9ee6780cb1d1-c000.snappy.parquet\n",
            "transformed_elb/.part-00133-0ceffb42-61ad-4d56-a5f4-9ee6780cb1d1-c000.snappy.parquet.crc\n",
            "transformed_elb/.part-00042-0ceffb42-61ad-4d56-a5f4-9ee6780cb1d1-c000.snappy.parquet.crc\n",
            "transformed_elb/part-00145-0ceffb42-61ad-4d56-a5f4-9ee6780cb1d1-c000.snappy.parquet\n",
            "transformed_elb/part-00015-0ceffb42-61ad-4d56-a5f4-9ee6780cb1d1-c000.snappy.parquet\n",
            "transformed_elb/part-00109-0ceffb42-61ad-4d56-a5f4-9ee6780cb1d1-c000.snappy.parquet\n",
            "transformed_elb/part-00084-0ceffb42-61ad-4d56-a5f4-9ee6780cb1d1-c000.snappy.parquet\n",
            "transformed_elb/.part-00056-0ceffb42-61ad-4d56-a5f4-9ee6780cb1d1-c000.snappy.parquet.crc\n",
            "transformed_elb/.part-00099-0ceffb42-61ad-4d56-a5f4-9ee6780cb1d1-c000.snappy.parquet.crc\n",
            "transformed_elb/part-00199-0ceffb42-61ad-4d56-a5f4-9ee6780cb1d1-c000.snappy.parquet\n",
            "transformed_elb/part-00000-0ceffb42-61ad-4d56-a5f4-9ee6780cb1d1-c000.snappy.parquet\n",
            "transformed_elb/part-00096-0ceffb42-61ad-4d56-a5f4-9ee6780cb1d1-c000.snappy.parquet\n",
            "transformed_elb/.part-00067-0ceffb42-61ad-4d56-a5f4-9ee6780cb1d1-c000.snappy.parquet.crc\n",
            "transformed_elb/part-00089-0ceffb42-61ad-4d56-a5f4-9ee6780cb1d1-c000.snappy.parquet\n",
            "transformed_elb/part-00072-0ceffb42-61ad-4d56-a5f4-9ee6780cb1d1-c000.snappy.parquet\n",
            "transformed_elb/part-00156-0ceffb42-61ad-4d56-a5f4-9ee6780cb1d1-c000.snappy.parquet\n",
            "transformed_elb/.part-00139-0ceffb42-61ad-4d56-a5f4-9ee6780cb1d1-c000.snappy.parquet.crc\n",
            "transformed_elb/.part-00047-0ceffb42-61ad-4d56-a5f4-9ee6780cb1d1-c000.snappy.parquet.crc\n",
            "transformed_elb/part-00146-0ceffb42-61ad-4d56-a5f4-9ee6780cb1d1-c000.snappy.parquet\n",
            "transformed_elb/part-00026-0ceffb42-61ad-4d56-a5f4-9ee6780cb1d1-c000.snappy.parquet\n",
            "transformed_elb/part-00085-0ceffb42-61ad-4d56-a5f4-9ee6780cb1d1-c000.snappy.parquet\n",
            "transformed_elb/.part-00078-0ceffb42-61ad-4d56-a5f4-9ee6780cb1d1-c000.snappy.parquet.crc\n",
            "transformed_elb/.part-00015-0ceffb42-61ad-4d56-a5f4-9ee6780cb1d1-c000.snappy.parquet.crc\n",
            "transformed_elb/.part-00113-0ceffb42-61ad-4d56-a5f4-9ee6780cb1d1-c000.snappy.parquet.crc\n",
            "transformed_elb/part-00065-0ceffb42-61ad-4d56-a5f4-9ee6780cb1d1-c000.snappy.parquet\n",
            "transformed_elb/.part-00136-0ceffb42-61ad-4d56-a5f4-9ee6780cb1d1-c000.snappy.parquet.crc\n",
            "transformed_elb/.part-00018-0ceffb42-61ad-4d56-a5f4-9ee6780cb1d1-c000.snappy.parquet.crc\n",
            "transformed_elb/part-00044-0ceffb42-61ad-4d56-a5f4-9ee6780cb1d1-c000.snappy.parquet\n",
            "transformed_elb/part-00170-0ceffb42-61ad-4d56-a5f4-9ee6780cb1d1-c000.snappy.parquet\n",
            "transformed_elb/part-00027-0ceffb42-61ad-4d56-a5f4-9ee6780cb1d1-c000.snappy.parquet\n",
            "transformed_elb/part-00155-0ceffb42-61ad-4d56-a5f4-9ee6780cb1d1-c000.snappy.parquet\n",
            "transformed_elb/.part-00181-0ceffb42-61ad-4d56-a5f4-9ee6780cb1d1-c000.snappy.parquet.crc\n",
            "transformed_elb/part-00184-0ceffb42-61ad-4d56-a5f4-9ee6780cb1d1-c000.snappy.parquet\n",
            "transformed_elb/part-00159-0ceffb42-61ad-4d56-a5f4-9ee6780cb1d1-c000.snappy.parquet\n",
            "transformed_elb/part-00014-0ceffb42-61ad-4d56-a5f4-9ee6780cb1d1-c000.snappy.parquet\n",
            "transformed_elb/.part-00069-0ceffb42-61ad-4d56-a5f4-9ee6780cb1d1-c000.snappy.parquet.crc\n",
            "transformed_elb/part-00196-0ceffb42-61ad-4d56-a5f4-9ee6780cb1d1-c000.snappy.parquet\n",
            "transformed_elb/.part-00121-0ceffb42-61ad-4d56-a5f4-9ee6780cb1d1-c000.snappy.parquet.crc\n",
            "transformed_elb/part-00111-0ceffb42-61ad-4d56-a5f4-9ee6780cb1d1-c000.snappy.parquet\n",
            "transformed_elb/part-00018-0ceffb42-61ad-4d56-a5f4-9ee6780cb1d1-c000.snappy.parquet\n",
            "transformed_elb/.part-00061-0ceffb42-61ad-4d56-a5f4-9ee6780cb1d1-c000.snappy.parquet.crc\n",
            "transformed_elb/part-00056-0ceffb42-61ad-4d56-a5f4-9ee6780cb1d1-c000.snappy.parquet\n",
            "transformed_elb/part-00118-0ceffb42-61ad-4d56-a5f4-9ee6780cb1d1-c000.snappy.parquet\n",
            "transformed_elb/part-00043-0ceffb42-61ad-4d56-a5f4-9ee6780cb1d1-c000.snappy.parquet\n",
            "transformed_elb/.part-00080-0ceffb42-61ad-4d56-a5f4-9ee6780cb1d1-c000.snappy.parquet.crc\n",
            "transformed_elb/part-00182-0ceffb42-61ad-4d56-a5f4-9ee6780cb1d1-c000.snappy.parquet\n",
            "transformed_elb/.part-00148-0ceffb42-61ad-4d56-a5f4-9ee6780cb1d1-c000.snappy.parquet.crc\n",
            "transformed_elb/.part-00122-0ceffb42-61ad-4d56-a5f4-9ee6780cb1d1-c000.snappy.parquet.crc\n",
            "transformed_elb/.part-00094-0ceffb42-61ad-4d56-a5f4-9ee6780cb1d1-c000.snappy.parquet.crc\n",
            "transformed_elb/.part-00152-0ceffb42-61ad-4d56-a5f4-9ee6780cb1d1-c000.snappy.parquet.crc\n",
            "transformed_elb/.part-00125-0ceffb42-61ad-4d56-a5f4-9ee6780cb1d1-c000.snappy.parquet.crc\n",
            "transformed_elb/.part-00013-0ceffb42-61ad-4d56-a5f4-9ee6780cb1d1-c000.snappy.parquet.crc\n",
            "transformed_elb/part-00136-0ceffb42-61ad-4d56-a5f4-9ee6780cb1d1-c000.snappy.parquet\n",
            "transformed_elb/part-00071-0ceffb42-61ad-4d56-a5f4-9ee6780cb1d1-c000.snappy.parquet\n",
            "transformed_elb/part-00083-0ceffb42-61ad-4d56-a5f4-9ee6780cb1d1-c000.snappy.parquet\n",
            "transformed_elb/.part-00126-0ceffb42-61ad-4d56-a5f4-9ee6780cb1d1-c000.snappy.parquet.crc\n",
            "transformed_elb/part-00004-0ceffb42-61ad-4d56-a5f4-9ee6780cb1d1-c000.snappy.parquet\n",
            "transformed_elb/part-00046-0ceffb42-61ad-4d56-a5f4-9ee6780cb1d1-c000.snappy.parquet\n",
            "transformed_elb/.part-00043-0ceffb42-61ad-4d56-a5f4-9ee6780cb1d1-c000.snappy.parquet.crc\n",
            "transformed_elb/part-00122-0ceffb42-61ad-4d56-a5f4-9ee6780cb1d1-c000.snappy.parquet\n",
            "transformed_elb/part-00135-0ceffb42-61ad-4d56-a5f4-9ee6780cb1d1-c000.snappy.parquet\n",
            "transformed_elb/.part-00165-0ceffb42-61ad-4d56-a5f4-9ee6780cb1d1-c000.snappy.parquet.crc\n",
            "transformed_elb/part-00186-0ceffb42-61ad-4d56-a5f4-9ee6780cb1d1-c000.snappy.parquet\n",
            "transformed_elb/part-00107-0ceffb42-61ad-4d56-a5f4-9ee6780cb1d1-c000.snappy.parquet\n",
            "transformed_elb/part-00143-0ceffb42-61ad-4d56-a5f4-9ee6780cb1d1-c000.snappy.parquet\n",
            "transformed_elb/part-00178-0ceffb42-61ad-4d56-a5f4-9ee6780cb1d1-c000.snappy.parquet\n",
            "transformed_elb/.part-00016-0ceffb42-61ad-4d56-a5f4-9ee6780cb1d1-c000.snappy.parquet.crc\n",
            "transformed_elb/part-00037-0ceffb42-61ad-4d56-a5f4-9ee6780cb1d1-c000.snappy.parquet\n",
            "transformed_elb/.part-00035-0ceffb42-61ad-4d56-a5f4-9ee6780cb1d1-c000.snappy.parquet.crc\n",
            "transformed_elb/part-00025-0ceffb42-61ad-4d56-a5f4-9ee6780cb1d1-c000.snappy.parquet\n",
            "transformed_elb/.part-00065-0ceffb42-61ad-4d56-a5f4-9ee6780cb1d1-c000.snappy.parquet.crc\n",
            "transformed_elb/part-00140-0ceffb42-61ad-4d56-a5f4-9ee6780cb1d1-c000.snappy.parquet\n",
            "transformed_elb/part-00033-0ceffb42-61ad-4d56-a5f4-9ee6780cb1d1-c000.snappy.parquet\n",
            "transformed_elb/.part-00161-0ceffb42-61ad-4d56-a5f4-9ee6780cb1d1-c000.snappy.parquet.crc\n",
            "transformed_elb/part-00168-0ceffb42-61ad-4d56-a5f4-9ee6780cb1d1-c000.snappy.parquet\n",
            "transformed_elb/.part-00029-0ceffb42-61ad-4d56-a5f4-9ee6780cb1d1-c000.snappy.parquet.crc\n",
            "transformed_elb/part-00152-0ceffb42-61ad-4d56-a5f4-9ee6780cb1d1-c000.snappy.parquet\n",
            "transformed_elb/.part-00170-0ceffb42-61ad-4d56-a5f4-9ee6780cb1d1-c000.snappy.parquet.crc\n",
            "transformed_elb/.part-00193-0ceffb42-61ad-4d56-a5f4-9ee6780cb1d1-c000.snappy.parquet.crc\n",
            "transformed_elb/.part-00008-0ceffb42-61ad-4d56-a5f4-9ee6780cb1d1-c000.snappy.parquet.crc\n",
            "transformed_elb/part-00030-0ceffb42-61ad-4d56-a5f4-9ee6780cb1d1-c000.snappy.parquet\n",
            "transformed_elb/.part-00194-0ceffb42-61ad-4d56-a5f4-9ee6780cb1d1-c000.snappy.parquet.crc\n",
            "transformed_elb/part-00141-0ceffb42-61ad-4d56-a5f4-9ee6780cb1d1-c000.snappy.parquet\n",
            "transformed_elb/part-00114-0ceffb42-61ad-4d56-a5f4-9ee6780cb1d1-c000.snappy.parquet\n",
            "transformed_elb/.part-00167-0ceffb42-61ad-4d56-a5f4-9ee6780cb1d1-c000.snappy.parquet.crc\n",
            "transformed_elb/part-00013-0ceffb42-61ad-4d56-a5f4-9ee6780cb1d1-c000.snappy.parquet\n",
            "transformed_elb/part-00172-0ceffb42-61ad-4d56-a5f4-9ee6780cb1d1-c000.snappy.parquet\n",
            "transformed_elb/.part-00117-0ceffb42-61ad-4d56-a5f4-9ee6780cb1d1-c000.snappy.parquet.crc\n",
            "transformed_elb/part-00132-0ceffb42-61ad-4d56-a5f4-9ee6780cb1d1-c000.snappy.parquet\n",
            "transformed_elb/part-00165-0ceffb42-61ad-4d56-a5f4-9ee6780cb1d1-c000.snappy.parquet\n",
            "transformed_elb/.part-00134-0ceffb42-61ad-4d56-a5f4-9ee6780cb1d1-c000.snappy.parquet.crc\n",
            "transformed_elb/part-00153-0ceffb42-61ad-4d56-a5f4-9ee6780cb1d1-c000.snappy.parquet\n",
            "transformed_elb/part-00066-0ceffb42-61ad-4d56-a5f4-9ee6780cb1d1-c000.snappy.parquet\n",
            "transformed_elb/.part-00130-0ceffb42-61ad-4d56-a5f4-9ee6780cb1d1-c000.snappy.parquet.crc\n",
            "transformed_elb/.part-00011-0ceffb42-61ad-4d56-a5f4-9ee6780cb1d1-c000.snappy.parquet.crc\n",
            "transformed_elb/part-00093-0ceffb42-61ad-4d56-a5f4-9ee6780cb1d1-c000.snappy.parquet\n",
            "transformed_elb/.part-00031-0ceffb42-61ad-4d56-a5f4-9ee6780cb1d1-c000.snappy.parquet.crc\n",
            "transformed_elb/.part-00123-0ceffb42-61ad-4d56-a5f4-9ee6780cb1d1-c000.snappy.parquet.crc\n",
            "transformed_elb/.part-00083-0ceffb42-61ad-4d56-a5f4-9ee6780cb1d1-c000.snappy.parquet.crc\n",
            "transformed_elb/part-00121-0ceffb42-61ad-4d56-a5f4-9ee6780cb1d1-c000.snappy.parquet\n",
            "transformed_elb/part-00169-0ceffb42-61ad-4d56-a5f4-9ee6780cb1d1-c000.snappy.parquet\n",
            "transformed_elb/.part-00097-0ceffb42-61ad-4d56-a5f4-9ee6780cb1d1-c000.snappy.parquet.crc\n",
            "transformed_elb/part-00128-0ceffb42-61ad-4d56-a5f4-9ee6780cb1d1-c000.snappy.parquet\n",
            "transformed_elb/part-00142-0ceffb42-61ad-4d56-a5f4-9ee6780cb1d1-c000.snappy.parquet\n",
            "transformed_elb/.part-00149-0ceffb42-61ad-4d56-a5f4-9ee6780cb1d1-c000.snappy.parquet.crc\n",
            "transformed_elb/part-00045-0ceffb42-61ad-4d56-a5f4-9ee6780cb1d1-c000.snappy.parquet\n",
            "transformed_elb/.part-00146-0ceffb42-61ad-4d56-a5f4-9ee6780cb1d1-c000.snappy.parquet.crc\n",
            "transformed_elb/.part-00199-0ceffb42-61ad-4d56-a5f4-9ee6780cb1d1-c000.snappy.parquet.crc\n",
            "transformed_elb/.part-00026-0ceffb42-61ad-4d56-a5f4-9ee6780cb1d1-c000.snappy.parquet.crc\n",
            "transformed_elb/.part-00176-0ceffb42-61ad-4d56-a5f4-9ee6780cb1d1-c000.snappy.parquet.crc\n",
            "transformed_elb/part-00058-0ceffb42-61ad-4d56-a5f4-9ee6780cb1d1-c000.snappy.parquet\n",
            "transformed_elb/.part-00084-0ceffb42-61ad-4d56-a5f4-9ee6780cb1d1-c000.snappy.parquet.crc\n",
            "transformed_elb/part-00134-0ceffb42-61ad-4d56-a5f4-9ee6780cb1d1-c000.snappy.parquet\n",
            "transformed_elb/.part-00158-0ceffb42-61ad-4d56-a5f4-9ee6780cb1d1-c000.snappy.parquet.crc\n",
            "transformed_elb/part-00126-0ceffb42-61ad-4d56-a5f4-9ee6780cb1d1-c000.snappy.parquet\n",
            "transformed_elb/.part-00180-0ceffb42-61ad-4d56-a5f4-9ee6780cb1d1-c000.snappy.parquet.crc\n",
            "transformed_elb/part-00124-0ceffb42-61ad-4d56-a5f4-9ee6780cb1d1-c000.snappy.parquet\n",
            "transformed_elb/.part-00175-0ceffb42-61ad-4d56-a5f4-9ee6780cb1d1-c000.snappy.parquet.crc\n",
            "transformed_elb/part-00094-0ceffb42-61ad-4d56-a5f4-9ee6780cb1d1-c000.snappy.parquet\n",
            "transformed_elb/.part-00168-0ceffb42-61ad-4d56-a5f4-9ee6780cb1d1-c000.snappy.parquet.crc\n",
            "transformed_elb/.part-00164-0ceffb42-61ad-4d56-a5f4-9ee6780cb1d1-c000.snappy.parquet.crc\n",
            "transformed_elb/part-00021-0ceffb42-61ad-4d56-a5f4-9ee6780cb1d1-c000.snappy.parquet\n",
            "transformed_elb/.part-00090-0ceffb42-61ad-4d56-a5f4-9ee6780cb1d1-c000.snappy.parquet.crc\n",
            "transformed_elb/.part-00027-0ceffb42-61ad-4d56-a5f4-9ee6780cb1d1-c000.snappy.parquet.crc\n",
            "transformed_elb/part-00160-0ceffb42-61ad-4d56-a5f4-9ee6780cb1d1-c000.snappy.parquet\n",
            "transformed_elb/part-00098-0ceffb42-61ad-4d56-a5f4-9ee6780cb1d1-c000.snappy.parquet\n",
            "transformed_elb/part-00050-0ceffb42-61ad-4d56-a5f4-9ee6780cb1d1-c000.snappy.parquet\n",
            "transformed_elb/.part-00055-0ceffb42-61ad-4d56-a5f4-9ee6780cb1d1-c000.snappy.parquet.crc\n",
            "transformed_elb/.part-00058-0ceffb42-61ad-4d56-a5f4-9ee6780cb1d1-c000.snappy.parquet.crc\n",
            "transformed_elb/.part-00028-0ceffb42-61ad-4d56-a5f4-9ee6780cb1d1-c000.snappy.parquet.crc\n",
            "transformed_elb/part-00150-0ceffb42-61ad-4d56-a5f4-9ee6780cb1d1-c000.snappy.parquet\n",
            "transformed_elb/.part-00184-0ceffb42-61ad-4d56-a5f4-9ee6780cb1d1-c000.snappy.parquet.crc\n",
            "transformed_elb/.part-00107-0ceffb42-61ad-4d56-a5f4-9ee6780cb1d1-c000.snappy.parquet.crc\n",
            "transformed_elb/.part-00111-0ceffb42-61ad-4d56-a5f4-9ee6780cb1d1-c000.snappy.parquet.crc\n",
            "transformed_elb/part-00139-0ceffb42-61ad-4d56-a5f4-9ee6780cb1d1-c000.snappy.parquet\n",
            "transformed_elb/part-00180-0ceffb42-61ad-4d56-a5f4-9ee6780cb1d1-c000.snappy.parquet\n",
            "transformed_elb/.part-00062-0ceffb42-61ad-4d56-a5f4-9ee6780cb1d1-c000.snappy.parquet.crc\n",
            "transformed_elb/.part-00145-0ceffb42-61ad-4d56-a5f4-9ee6780cb1d1-c000.snappy.parquet.crc\n",
            "transformed_elb/.part-00190-0ceffb42-61ad-4d56-a5f4-9ee6780cb1d1-c000.snappy.parquet.crc\n",
            "transformed_elb/.part-00096-0ceffb42-61ad-4d56-a5f4-9ee6780cb1d1-c000.snappy.parquet.crc\n",
            "transformed_elb/.part-00198-0ceffb42-61ad-4d56-a5f4-9ee6780cb1d1-c000.snappy.parquet.crc\n",
            "transformed_elb/.part-00095-0ceffb42-61ad-4d56-a5f4-9ee6780cb1d1-c000.snappy.parquet.crc\n",
            "transformed_elb/part-00011-0ceffb42-61ad-4d56-a5f4-9ee6780cb1d1-c000.snappy.parquet\n",
            "transformed_elb/part-00115-0ceffb42-61ad-4d56-a5f4-9ee6780cb1d1-c000.snappy.parquet\n",
            "transformed_elb/part-00117-0ceffb42-61ad-4d56-a5f4-9ee6780cb1d1-c000.snappy.parquet\n",
            "transformed_elb/.part-00174-0ceffb42-61ad-4d56-a5f4-9ee6780cb1d1-c000.snappy.parquet.crc\n",
            "transformed_elb/.part-00120-0ceffb42-61ad-4d56-a5f4-9ee6780cb1d1-c000.snappy.parquet.crc\n",
            "transformed_elb/.part-00093-0ceffb42-61ad-4d56-a5f4-9ee6780cb1d1-c000.snappy.parquet.crc\n",
            "transformed_elb/.part-00025-0ceffb42-61ad-4d56-a5f4-9ee6780cb1d1-c000.snappy.parquet.crc\n",
            "transformed_elb/.part-00143-0ceffb42-61ad-4d56-a5f4-9ee6780cb1d1-c000.snappy.parquet.crc\n",
            "transformed_elb/.part-00009-0ceffb42-61ad-4d56-a5f4-9ee6780cb1d1-c000.snappy.parquet.crc\n",
            "transformed_elb/.part-00119-0ceffb42-61ad-4d56-a5f4-9ee6780cb1d1-c000.snappy.parquet.crc\n",
            "transformed_elb/part-00198-0ceffb42-61ad-4d56-a5f4-9ee6780cb1d1-c000.snappy.parquet\n",
            "transformed_elb/part-00137-0ceffb42-61ad-4d56-a5f4-9ee6780cb1d1-c000.snappy.parquet\n",
            "transformed_elb/part-00149-0ceffb42-61ad-4d56-a5f4-9ee6780cb1d1-c000.snappy.parquet\n",
            "transformed_elb/part-00053-0ceffb42-61ad-4d56-a5f4-9ee6780cb1d1-c000.snappy.parquet\n",
            "transformed_elb/.part-00048-0ceffb42-61ad-4d56-a5f4-9ee6780cb1d1-c000.snappy.parquet.crc\n",
            "transformed_elb/.part-00177-0ceffb42-61ad-4d56-a5f4-9ee6780cb1d1-c000.snappy.parquet.crc\n",
            "transformed_elb/.part-00039-0ceffb42-61ad-4d56-a5f4-9ee6780cb1d1-c000.snappy.parquet.crc\n",
            "transformed_elb/.part-00034-0ceffb42-61ad-4d56-a5f4-9ee6780cb1d1-c000.snappy.parquet.crc\n",
            "transformed_elb/part-00112-0ceffb42-61ad-4d56-a5f4-9ee6780cb1d1-c000.snappy.parquet\n",
            "transformed_elb/.part-00118-0ceffb42-61ad-4d56-a5f4-9ee6780cb1d1-c000.snappy.parquet.crc\n",
            "transformed_elb/.part-00076-0ceffb42-61ad-4d56-a5f4-9ee6780cb1d1-c000.snappy.parquet.crc\n",
            "transformed_elb/.part-00082-0ceffb42-61ad-4d56-a5f4-9ee6780cb1d1-c000.snappy.parquet.crc\n",
            "transformed_elb/part-00024-0ceffb42-61ad-4d56-a5f4-9ee6780cb1d1-c000.snappy.parquet\n",
            "transformed_elb/.part-00077-0ceffb42-61ad-4d56-a5f4-9ee6780cb1d1-c000.snappy.parquet.crc\n",
            "transformed_elb/.part-00153-0ceffb42-61ad-4d56-a5f4-9ee6780cb1d1-c000.snappy.parquet.crc\n",
            "transformed_elb/part-00051-0ceffb42-61ad-4d56-a5f4-9ee6780cb1d1-c000.snappy.parquet\n",
            "transformed_elb/part-00106-0ceffb42-61ad-4d56-a5f4-9ee6780cb1d1-c000.snappy.parquet\n",
            "transformed_elb/.part-00020-0ceffb42-61ad-4d56-a5f4-9ee6780cb1d1-c000.snappy.parquet.crc\n",
            "transformed_elb/part-00069-0ceffb42-61ad-4d56-a5f4-9ee6780cb1d1-c000.snappy.parquet\n",
            "transformed_elb/.part-00102-0ceffb42-61ad-4d56-a5f4-9ee6780cb1d1-c000.snappy.parquet.crc\n",
            "transformed_elb/.part-00087-0ceffb42-61ad-4d56-a5f4-9ee6780cb1d1-c000.snappy.parquet.crc\n",
            "transformed_elb/.part-00115-0ceffb42-61ad-4d56-a5f4-9ee6780cb1d1-c000.snappy.parquet.crc\n",
            "transformed_elb/part-00055-0ceffb42-61ad-4d56-a5f4-9ee6780cb1d1-c000.snappy.parquet\n",
            "transformed_elb/part-00054-0ceffb42-61ad-4d56-a5f4-9ee6780cb1d1-c000.snappy.parquet\n",
            "transformed_elb/.part-00140-0ceffb42-61ad-4d56-a5f4-9ee6780cb1d1-c000.snappy.parquet.crc\n",
            "transformed_elb/part-00105-0ceffb42-61ad-4d56-a5f4-9ee6780cb1d1-c000.snappy.parquet\n",
            "transformed_elb/part-00147-0ceffb42-61ad-4d56-a5f4-9ee6780cb1d1-c000.snappy.parquet\n",
            "transformed_elb/.part-00156-0ceffb42-61ad-4d56-a5f4-9ee6780cb1d1-c000.snappy.parquet.crc\n",
            "transformed_elb/part-00034-0ceffb42-61ad-4d56-a5f4-9ee6780cb1d1-c000.snappy.parquet\n",
            "transformed_elb/part-00049-0ceffb42-61ad-4d56-a5f4-9ee6780cb1d1-c000.snappy.parquet\n",
            "transformed_elb/.part-00163-0ceffb42-61ad-4d56-a5f4-9ee6780cb1d1-c000.snappy.parquet.crc\n",
            "transformed_elb/.part-00172-0ceffb42-61ad-4d56-a5f4-9ee6780cb1d1-c000.snappy.parquet.crc\n",
            "transformed_elb/part-00064-0ceffb42-61ad-4d56-a5f4-9ee6780cb1d1-c000.snappy.parquet\n",
            "transformed_elb/.part-00060-0ceffb42-61ad-4d56-a5f4-9ee6780cb1d1-c000.snappy.parquet.crc\n",
            "transformed_elb/part-00092-0ceffb42-61ad-4d56-a5f4-9ee6780cb1d1-c000.snappy.parquet\n",
            "transformed_elb/part-00012-0ceffb42-61ad-4d56-a5f4-9ee6780cb1d1-c000.snappy.parquet\n",
            "transformed_elb/part-00167-0ceffb42-61ad-4d56-a5f4-9ee6780cb1d1-c000.snappy.parquet\n",
            "transformed_elb/.part-00003-0ceffb42-61ad-4d56-a5f4-9ee6780cb1d1-c000.snappy.parquet.crc\n",
            "transformed_elb/.part-00005-0ceffb42-61ad-4d56-a5f4-9ee6780cb1d1-c000.snappy.parquet.crc\n",
            "transformed_elb/.part-00166-0ceffb42-61ad-4d56-a5f4-9ee6780cb1d1-c000.snappy.parquet.crc\n",
            "transformed_elb/part-00131-0ceffb42-61ad-4d56-a5f4-9ee6780cb1d1-c000.snappy.parquet\n",
            "transformed_elb/part-00057-0ceffb42-61ad-4d56-a5f4-9ee6780cb1d1-c000.snappy.parquet\n",
            "transformed_elb/.part-00021-0ceffb42-61ad-4d56-a5f4-9ee6780cb1d1-c000.snappy.parquet.crc\n",
            "transformed_elb/part-00070-0ceffb42-61ad-4d56-a5f4-9ee6780cb1d1-c000.snappy.parquet\n",
            "transformed_elb/part-00113-0ceffb42-61ad-4d56-a5f4-9ee6780cb1d1-c000.snappy.parquet\n",
            "transformed_elb/.part-00182-0ceffb42-61ad-4d56-a5f4-9ee6780cb1d1-c000.snappy.parquet.crc\n",
            "transformed_elb/part-00192-0ceffb42-61ad-4d56-a5f4-9ee6780cb1d1-c000.snappy.parquet\n",
            "transformed_elb/.part-00014-0ceffb42-61ad-4d56-a5f4-9ee6780cb1d1-c000.snappy.parquet.crc\n",
            "transformed_elb/part-00101-0ceffb42-61ad-4d56-a5f4-9ee6780cb1d1-c000.snappy.parquet\n",
            "transformed_elb/.part-00032-0ceffb42-61ad-4d56-a5f4-9ee6780cb1d1-c000.snappy.parquet.crc\n",
            "transformed_elb/.part-00052-0ceffb42-61ad-4d56-a5f4-9ee6780cb1d1-c000.snappy.parquet.crc\n",
            "transformed_elb/.part-00103-0ceffb42-61ad-4d56-a5f4-9ee6780cb1d1-c000.snappy.parquet.crc\n",
            "transformed_elb/part-00108-0ceffb42-61ad-4d56-a5f4-9ee6780cb1d1-c000.snappy.parquet\n",
            "transformed_elb/part-00003-0ceffb42-61ad-4d56-a5f4-9ee6780cb1d1-c000.snappy.parquet\n",
            "transformed_elb/part-00104-0ceffb42-61ad-4d56-a5f4-9ee6780cb1d1-c000.snappy.parquet\n",
            "transformed_elb/part-00116-0ceffb42-61ad-4d56-a5f4-9ee6780cb1d1-c000.snappy.parquet\n",
            "transformed_elb/part-00102-0ceffb42-61ad-4d56-a5f4-9ee6780cb1d1-c000.snappy.parquet\n",
            "transformed_elb/.part-00070-0ceffb42-61ad-4d56-a5f4-9ee6780cb1d1-c000.snappy.parquet.crc\n",
            "transformed_elb/part-00154-0ceffb42-61ad-4d56-a5f4-9ee6780cb1d1-c000.snappy.parquet\n",
            "transformed_elb/.part-00157-0ceffb42-61ad-4d56-a5f4-9ee6780cb1d1-c000.snappy.parquet.crc\n",
            "transformed_elb/part-00181-0ceffb42-61ad-4d56-a5f4-9ee6780cb1d1-c000.snappy.parquet\n",
            "transformed_elb/part-00040-0ceffb42-61ad-4d56-a5f4-9ee6780cb1d1-c000.snappy.parquet\n",
            "transformed_elb/.part-00081-0ceffb42-61ad-4d56-a5f4-9ee6780cb1d1-c000.snappy.parquet.crc\n",
            "transformed_elb/.part-00109-0ceffb42-61ad-4d56-a5f4-9ee6780cb1d1-c000.snappy.parquet.crc\n",
            "transformed_elb/.part-00046-0ceffb42-61ad-4d56-a5f4-9ee6780cb1d1-c000.snappy.parquet.crc\n",
            "transformed_elb/part-00007-0ceffb42-61ad-4d56-a5f4-9ee6780cb1d1-c000.snappy.parquet\n",
            "transformed_elb/.part-00041-0ceffb42-61ad-4d56-a5f4-9ee6780cb1d1-c000.snappy.parquet.crc\n",
            "transformed_elb/.part-00124-0ceffb42-61ad-4d56-a5f4-9ee6780cb1d1-c000.snappy.parquet.crc\n",
            "transformed_elb/part-00075-0ceffb42-61ad-4d56-a5f4-9ee6780cb1d1-c000.snappy.parquet\n",
            "transformed_elb/part-00029-0ceffb42-61ad-4d56-a5f4-9ee6780cb1d1-c000.snappy.parquet\n",
            "transformed_elb/.part-00044-0ceffb42-61ad-4d56-a5f4-9ee6780cb1d1-c000.snappy.parquet.crc\n",
            "transformed_elb/part-00174-0ceffb42-61ad-4d56-a5f4-9ee6780cb1d1-c000.snappy.parquet\n",
            "transformed_elb/part-00171-0ceffb42-61ad-4d56-a5f4-9ee6780cb1d1-c000.snappy.parquet\n",
            "transformed_elb/part-00048-0ceffb42-61ad-4d56-a5f4-9ee6780cb1d1-c000.snappy.parquet\n",
            "transformed_elb/.part-00191-0ceffb42-61ad-4d56-a5f4-9ee6780cb1d1-c000.snappy.parquet.crc\n",
            "transformed_elb/part-00103-0ceffb42-61ad-4d56-a5f4-9ee6780cb1d1-c000.snappy.parquet\n",
            "transformed_elb/.part-00160-0ceffb42-61ad-4d56-a5f4-9ee6780cb1d1-c000.snappy.parquet.crc\n",
            "transformed_elb/.part-00051-0ceffb42-61ad-4d56-a5f4-9ee6780cb1d1-c000.snappy.parquet.crc\n",
            "transformed_elb/part-00038-0ceffb42-61ad-4d56-a5f4-9ee6780cb1d1-c000.snappy.parquet\n",
            "transformed_elb/part-00059-0ceffb42-61ad-4d56-a5f4-9ee6780cb1d1-c000.snappy.parquet\n",
            "transformed_elb/.part-00053-0ceffb42-61ad-4d56-a5f4-9ee6780cb1d1-c000.snappy.parquet.crc\n",
            "transformed_elb/.part-00050-0ceffb42-61ad-4d56-a5f4-9ee6780cb1d1-c000.snappy.parquet.crc\n",
            "transformed_elb/part-00082-0ceffb42-61ad-4d56-a5f4-9ee6780cb1d1-c000.snappy.parquet\n",
            "transformed_elb/.part-00101-0ceffb42-61ad-4d56-a5f4-9ee6780cb1d1-c000.snappy.parquet.crc\n",
            "transformed_elb/.part-00000-0ceffb42-61ad-4d56-a5f4-9ee6780cb1d1-c000.snappy.parquet.crc\n",
            "transformed_elb/part-00100-0ceffb42-61ad-4d56-a5f4-9ee6780cb1d1-c000.snappy.parquet\n",
            "transformed_elb/part-00031-0ceffb42-61ad-4d56-a5f4-9ee6780cb1d1-c000.snappy.parquet\n",
            "transformed_elb/part-00166-0ceffb42-61ad-4d56-a5f4-9ee6780cb1d1-c000.snappy.parquet\n",
            "transformed_elb/.part-00002-0ceffb42-61ad-4d56-a5f4-9ee6780cb1d1-c000.snappy.parquet.crc\n",
            "transformed_elb/part-00052-0ceffb42-61ad-4d56-a5f4-9ee6780cb1d1-c000.snappy.parquet\n",
            "transformed_elb/part-00188-0ceffb42-61ad-4d56-a5f4-9ee6780cb1d1-c000.snappy.parquet\n",
            "transformed_elb/.part-00147-0ceffb42-61ad-4d56-a5f4-9ee6780cb1d1-c000.snappy.parquet.crc\n",
            "transformed_elb/part-00123-0ceffb42-61ad-4d56-a5f4-9ee6780cb1d1-c000.snappy.parquet\n",
            "transformed_elb/.part-00030-0ceffb42-61ad-4d56-a5f4-9ee6780cb1d1-c000.snappy.parquet.crc\n",
            "transformed_elb/part-00144-0ceffb42-61ad-4d56-a5f4-9ee6780cb1d1-c000.snappy.parquet\n",
            "transformed_elb/part-00001-0ceffb42-61ad-4d56-a5f4-9ee6780cb1d1-c000.snappy.parquet\n",
            "transformed_elb/part-00090-0ceffb42-61ad-4d56-a5f4-9ee6780cb1d1-c000.snappy.parquet\n",
            "transformed_elb/part-00177-0ceffb42-61ad-4d56-a5f4-9ee6780cb1d1-c000.snappy.parquet\n",
            "transformed_elb/.part-00092-0ceffb42-61ad-4d56-a5f4-9ee6780cb1d1-c000.snappy.parquet.crc\n",
            "transformed_elb/part-00185-0ceffb42-61ad-4d56-a5f4-9ee6780cb1d1-c000.snappy.parquet\n",
            "transformed_elb/_SUCCESS\n",
            "transformed_elb/.part-00064-0ceffb42-61ad-4d56-a5f4-9ee6780cb1d1-c000.snappy.parquet.crc\n",
            "transformed_elb/.part-00110-0ceffb42-61ad-4d56-a5f4-9ee6780cb1d1-c000.snappy.parquet.crc\n",
            "transformed_elb/part-00074-0ceffb42-61ad-4d56-a5f4-9ee6780cb1d1-c000.snappy.parquet\n",
            "transformed_elb/.part-00192-0ceffb42-61ad-4d56-a5f4-9ee6780cb1d1-c000.snappy.parquet.crc\n",
            "transformed_elb/part-00016-0ceffb42-61ad-4d56-a5f4-9ee6780cb1d1-c000.snappy.parquet\n",
            "transformed_elb/part-00162-0ceffb42-61ad-4d56-a5f4-9ee6780cb1d1-c000.snappy.parquet\n",
            "transformed_elb/.part-00004-0ceffb42-61ad-4d56-a5f4-9ee6780cb1d1-c000.snappy.parquet.crc\n",
            "transformed_elb/.part-00173-0ceffb42-61ad-4d56-a5f4-9ee6780cb1d1-c000.snappy.parquet.crc\n",
            "transformed_elb/part-00173-0ceffb42-61ad-4d56-a5f4-9ee6780cb1d1-c000.snappy.parquet\n",
            "transformed_elb/.part-00085-0ceffb42-61ad-4d56-a5f4-9ee6780cb1d1-c000.snappy.parquet.crc\n",
            "transformed_elb/part-00088-0ceffb42-61ad-4d56-a5f4-9ee6780cb1d1-c000.snappy.parquet\n",
            "transformed_elb/part-00130-0ceffb42-61ad-4d56-a5f4-9ee6780cb1d1-c000.snappy.parquet\n",
            "transformed_elb/.part-00106-0ceffb42-61ad-4d56-a5f4-9ee6780cb1d1-c000.snappy.parquet.crc\n",
            "transformed_elb/part-00125-0ceffb42-61ad-4d56-a5f4-9ee6780cb1d1-c000.snappy.parquet\n",
            "transformed_elb/part-00189-0ceffb42-61ad-4d56-a5f4-9ee6780cb1d1-c000.snappy.parquet\n",
            "transformed_elb/.part-00033-0ceffb42-61ad-4d56-a5f4-9ee6780cb1d1-c000.snappy.parquet.crc\n",
            "transformed_elb/.part-00195-0ceffb42-61ad-4d56-a5f4-9ee6780cb1d1-c000.snappy.parquet.crc\n",
            "transformed_elb/part-00197-0ceffb42-61ad-4d56-a5f4-9ee6780cb1d1-c000.snappy.parquet\n",
            "transformed_elb/part-00023-0ceffb42-61ad-4d56-a5f4-9ee6780cb1d1-c000.snappy.parquet\n",
            "transformed_elb/.part-00024-0ceffb42-61ad-4d56-a5f4-9ee6780cb1d1-c000.snappy.parquet.crc\n",
            "transformed_elb/part-00078-0ceffb42-61ad-4d56-a5f4-9ee6780cb1d1-c000.snappy.parquet\n",
            "transformed_elb/.part-00023-0ceffb42-61ad-4d56-a5f4-9ee6780cb1d1-c000.snappy.parquet.crc\n",
            "transformed_elb/part-00099-0ceffb42-61ad-4d56-a5f4-9ee6780cb1d1-c000.snappy.parquet\n",
            "transformed_elb/.part-00036-0ceffb42-61ad-4d56-a5f4-9ee6780cb1d1-c000.snappy.parquet.crc\n",
            "transformed_elb/part-00063-0ceffb42-61ad-4d56-a5f4-9ee6780cb1d1-c000.snappy.parquet\n",
            "transformed_elb/.part-00108-0ceffb42-61ad-4d56-a5f4-9ee6780cb1d1-c000.snappy.parquet.crc\n"
          ],
          "name": "stdout"
        }
      ]
    },
    {
      "cell_type": "code",
      "metadata": {
        "id": "BUWTMcW7RIHN",
        "colab_type": "code",
        "colab": {
          "base_uri": "https://localhost:8080/",
          "height": 204
        },
        "outputId": "1dd29a07-ba22-4c8b-c2ae-9dd0988dc5d7"
      },
      "source": [
        "!ls -al"
      ],
      "execution_count": 43,
      "outputs": [
        {
          "output_type": "stream",
          "text": [
            "total 318252\n",
            "drwxr-xr-x  1 root root      4096 Jun 28 08:47 .\n",
            "drwxr-xr-x  1 root root      4096 Jun 28 06:04 ..\n",
            "-rw-r--r--  1 root root  53832694 Jun 28 08:15 2015_07_22_mktplace_shop_web_log_sample.log.gz\n",
            "drwxr-xr-x  1 root root      4096 Jun 18 16:14 .config\n",
            "drwxr-xr-x  1 root root      4096 Jun 18 16:14 sample_data\n",
            "drwxr-xr-x 13 1000 1000      4096 May  1 05:19 spark-2.4.3-bin-hadoop2.7\n",
            "-rw-r--r--  1 root root 229988313 May  1 05:57 spark-2.4.3-bin-hadoop2.7.tgz\n",
            "drwxr-xr-x  2 root root      4096 Jun 28 08:32 spark-warehouse\n",
            "drwxr-xr-x  2 root root     49152 Jun 28 08:34 transformed_elb\n",
            "-rw-r--r--  1 root root  41989009 Jun 28 08:47 transformed_elb.tar.gz\n"
          ],
          "name": "stdout"
        }
      ]
    },
    {
      "cell_type": "code",
      "metadata": {
        "id": "wOcbDaHHQtmu",
        "colab_type": "code",
        "colab": {}
      },
      "source": [
        "from google.colab import files\n",
        "files.download('/content/transformed_elb.tar.gz') "
      ],
      "execution_count": 0,
      "outputs": []
    },
    {
      "cell_type": "code",
      "metadata": {
        "id": "yXhZQJjRRKnn",
        "colab_type": "code",
        "colab": {}
      },
      "source": [
        ""
      ],
      "execution_count": 0,
      "outputs": []
    }
  ]
}